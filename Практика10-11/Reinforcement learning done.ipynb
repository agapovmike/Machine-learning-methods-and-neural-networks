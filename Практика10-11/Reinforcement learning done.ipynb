{
  "cells": [
    {
      "cell_type": "markdown",
      "metadata": {
        "id": "m2s4kN_QPQVe"
      },
      "source": [
        "# Введение в обучение с подкреплением  (Reinforcement Learning)\n",
        "\n",
        "\n",
        "<center>\n",
        "<img src=\"https://raw.githubusercontent.com/jcformanek/jcformanek.github.io/master/docs/assets/images/rl_in_space.png\" width=\"100%\" />\n",
        "</center>\n",
        "\n",
        "\n",
        "\n",
        "**Введение**\n",
        "\n",
        "На этом семинаре мы изучим обучение с подкреплением - тип машинного обучения без учителя, где агент учится выбирать действия, которые приводят к максимальному вознаграждению в долгосрочной перспективе. Обучение с подкреплением используется в широком спектре сложных задач, в том числе - в видеоиграх, например, [Atari](https://www.deepmind.com/blog/agent57-outperforming-the-human-atari-benchmark), [StarCraft II](https://www.deepmind.com/blog/alphastar-mastering-the-real-time-strategy-game-starcraft-ii) и [Dota II](https://openai.com/five/).\n",
        "\n",
        "На семинаре изучим классическую среду - [CartPole](https://www.gymlibrary.ml/environments/classic_control/cart_pole/), где агент должен научиться балансировать шестом на тележке (см лекцию), используя несколько различных подходов RL. По пути вы познакомитесь с некоторыми из самых важных концепций и терминологии в RL.\n",
        "\n",
        "**Темы:**\n",
        "* Reinforcement Learning (RL, Обучение с подкреплением)\n",
        "* Random Policy Search (Случайный поиск политики)\n",
        "* Policy Gradient (Градиент политики)\n",
        "* Q-Learning\n",
        "\n",
        "\n",
        "**Что надо сделать для лучшего понимания:**\n",
        "\n",
        "* почитать про библиотеку [JAX](https://github.com/google/jax).\n",
        "* вспомнить нейроки.\n",
        "\n"
      ]
    },
    {
      "cell_type": "markdown",
      "metadata": {
        "id": "6EqhIg1odqg0"
      },
      "source": [
        "### Настраиваем среду"
      ]
    },
    {
      "cell_type": "code",
      "execution_count": 44,
      "metadata": {
        "id": "4boGA9rYdt9l"
      },
      "outputs": [],
      "source": [
        "# @title Установка необходимых пакетов (надо просто запустить!) { display-mode: \"form\" }\n",
        "# @markdown Может занять несколько минут\n",
        "%%capture\n",
        "!pip install jaxlib\n",
        "!pip install jax\n",
        "!pip install git+https://github.com/deepmind/dm-haiku\n",
        "!pip install gym==0.25\n",
        "!pip install gym[box2d]\n",
        "!pip install optax\n",
        "!pip install matplotlib\n",
        "!pip install chex\n",
        "!pip install gym[classic_control]"
      ]
    },
    {
      "cell_type": "code",
      "execution_count": 45,
      "metadata": {
        "id": "gwbqggmcRjMy"
      },
      "outputs": [],
      "source": [
        "# @title Импорт необходимых пакетов (просто запустите ячейку) { display-mode: \"form\" }\n",
        "%%capture\n",
        "import copy\n",
        "from shutil import rmtree # deleting directories\n",
        "import random\n",
        "import collections # useful data structures\n",
        "import numpy as np\n",
        "import gym # reinforcement learning environments\n",
        "from gym.wrappers import RecordVideo\n",
        "import jax\n",
        "import jax.numpy as jnp # jax numpy\n",
        "import haiku as hk # jax neural network library\n",
        "import optax # jax optimizer library\n",
        "import matplotlib.pyplot as plt # graph plotting library\n",
        "from IPython.display import HTML\n",
        "from base64 import b64encode\n",
        "import chex\n",
        "\n",
        "# Hide warnings\n",
        "import warnings\n",
        "warnings.filterwarnings('ignore')"
      ]
    },
    {
      "cell_type": "markdown",
      "metadata": {
        "id": "-ZUp8i37dFbU"
      },
      "source": [
        "## 1. Ключевые концепции обучения с подкреплением\n",
        "\n",
        "Обучение с подкреплением (RL) является подразделом машинного обучения (ML). В отличие от таких областей, как контролируемое обучение, где мы даем примеры ожидаемого поведения нашим моделям, RL фокусируется на *целеориентированном* обучении из взаимодействий методом проб и ошибок. Алгоритмы RL изучают, что делать (т. е. какие оптимальные действия предпринять) в среде, чтобы максимизировать некий сигнал вознаграждения. В таких условиях, как видеоигра, сигналом вознаграждения может быть счет игры, т. е. алгоритмы RL будут пытаться максимизировать счет в игре, выбирая лучшие действия.\n",
        "\n",
        "<center>\n",
        "<img src=\"https://pettingzoo.farama.org/_images/environments-demo.gif\" width=\"40%\" />\n",
        "</center>\n",
        "\n",
        "[*Image Source*](https://pettingzoo.farama.org/)\n",
        "\n",
        "Другими словами, в RL у нас есть **агент**, который воспринимает **наблюдение** $o_t$ текущего состояния $s_t$ **окружающей среды** и должен выбрать **действие** $a_t$ для выполнения.\n",
        "\n",
        "Затем окружающая среда переходит в новое состояние $s_{t+1}$ в ответ на действие агента, а также дает агенту скалярное вознаграждение $r_t$, чтобы указать, насколько хорошим или плохим было выбранное действие, учитывая состояние окружающей среды.\n",
        "\n",
        "Целью в RL является максимизация агентом суммы вознаграждения, которое он получает от окружающей среды с течением времени. Нижний индекс $t$ используется для указания номера временного шага, т. е. $s_0$ - это состояние окружающей среды на начальном временном шаге, а $a_{99}$ - это действие агента на $99-м$ временном шаге."
      ]
    },
    {
      "cell_type": "markdown",
      "metadata": {
        "id": "Ghgy69hFRjMz"
      },
      "source": [
        "### Среда - OpenAI Gym\n",
        "Как упоминалось выше, среда получает от агента действие $a_t$ и возвращает вознаграждение $r_t$ и наблюдение $o_t$.\n",
        "\n",
        "OpenAI разработал пакет для Python под названием **Gym**, который включает реализации популярных сред и простой интерфейс для взаимодействия агента RL. Чтобы использовать поддерживаемую [среду gym](https://www.gymlibrary.ml/), все, что вам нужно сделать, это передать имя среды в функцию  `gym.make(<environment_name>)`.\n",
        "\n",
        "В этом уроке мы будем использовать простую среду под названием **CartPole**. В CartPole задача агента — научиться балансировать на шесте как можно дольше, перемещая тележку *влево* или *вправо*.\n",
        "\n",
        "<img src=\"https://user-images.githubusercontent.com/10854026/32486103-f15f19de-c3a5-11e7-81de-0605df939497.gif\" width=\"50%\" />"
      ]
    },
    {
      "cell_type": "code",
      "execution_count": 46,
      "metadata": {
        "id": "WfxzajMYRjMz"
      },
      "outputs": [],
      "source": [
        "# Create the environment\n",
        "env_name = \"CartPole-v0\"\n",
        "env = gym.make(env_name)"
      ]
    },
    {
      "cell_type": "markdown",
      "metadata": {
        "id": "y_BbftaJj3zu"
      },
      "source": [
        "### Состояние (States) и Наблюдение (Observations) - $s_t$ and $o_t$\n",
        "\n",
        "В RL агент воспринимает наблюдение за состоянием среды. В некоторых настройках наблюдение может включать всю информацию, лежащую в основе состояния среды. Такая среда называется **полностью наблюдаемой**. В других настройках агент может получать только частичную информацию о состоянии среды в своем наблюдении. Такая среда называется **частично наблюдаемой**.\n",
        "\n",
        "В оставшейся части этого руководства мы будем предполагать, что среда полностью наблюдаема, и поэтому будем использовать состояние $s_t$ и наблюдение $o_t$ взаимозаменяемо. В Gym мы получаем начальное наблюдение из среды, вызывая функцию `env.reset()`."
      ]
    },
    {
      "cell_type": "code",
      "execution_count": 47,
      "metadata": {
        "id": "HdS8nqOgRjM0",
        "colab": {
          "base_uri": "https://localhost:8080/"
        },
        "outputId": "ce192f57-4a80-400f-833a-bd23b10d6b4e"
      },
      "outputs": [
        {
          "output_type": "stream",
          "name": "stdout",
          "text": [
            "Initial State:: [ 0.01825657  0.03469086 -0.007148    0.00807321]\n",
            "Environment Obs Space Shape: (4,)\n"
          ]
        }
      ],
      "source": [
        "# Reset the environment\n",
        "s_0 = env.reset()\n",
        "print(\"Initial State::\", s_0)\n",
        "\n",
        "# Get environment obs space\n",
        "obs_shape = env.observation_space.shape\n",
        "print(\"Environment Obs Space Shape:\", obs_shape)"
      ]
    },
    {
      "cell_type": "markdown",
      "metadata": {
        "id": "pUNX6mbotABo"
      },
      "source": [
        "В CartPole состояние окружающей среды представлено четырьмя числами: *угловое положение полюса, угловая скорость полюса, положение тележки, скорость тележки*."
      ]
    },
    {
      "cell_type": "markdown",
      "metadata": {
        "id": "hL1Nkgy7nUfn"
      },
      "source": [
        "### Действия (Actions) - $a_t$\n",
        "\n",
        "В RL действия обычно либо **дискретные**, либо **непрерывные**. Непрерывные действия задаются вектором действительных чисел. Дискретные действия задаются целочисленным значением. В средах, где мы можем подсчитать конечный набор действий, мы обычно используем дискретные действия.\n",
        "\n",
        "В CartPole есть только два действия: *влево* и *вправо*. Таким образом, действия могут быть представлены целыми числами $0$ и $1$. В gym мы можем легко получить список возможных действий следующим образом:"
      ]
    },
    {
      "cell_type": "code",
      "execution_count": 48,
      "metadata": {
        "id": "uOLZqU_LpIXh",
        "colab": {
          "base_uri": "https://localhost:8080/"
        },
        "outputId": "65f7e7e9-9d47-4bce-d496-e6810307028a"
      },
      "outputs": [
        {
          "output_type": "stream",
          "name": "stdout",
          "text": [
            "Environment action space: Discrete(2)\n",
            "Number of actions: 2\n"
          ]
        }
      ],
      "source": [
        "# Get action space - e.g. discrete or continuous\n",
        "print(f\"Environment action space: {env.action_space}\")\n",
        "\n",
        "# Get num actions\n",
        "num_actions = env.action_space.n\n",
        "print(f\"Number of actions: {num_actions}\")"
      ]
    },
    {
      "cell_type": "markdown",
      "metadata": {
        "id": "tRsflxbDpoPm"
      },
      "source": [
        "### Политика агента (The Agent's Policy) - $\\pi$\n",
        "\n",
        "В RL агент выбирает действия на основе полученных наблюдений. Мы можем представить процесс выбора действия агента как функцию, которая принимает наблюдение в качестве входных данных и возвращает действие в качестве выходных данных. В RL мы обычно называем эту функцию **политикой** агента и обозначаем ее $\\pi(s_t)=a_t$. В RL мы обычно параметризуем нашу политику каким-либо образом, а затем пытаемся узнать оптимальные параметры. Параметризованная политика обычно обозначается $\\pi_\\theta$, где $\\theta$ — это набор параметров.\n",
        "\n",
        "**Упражнение 1:** В качестве упражнения давайте реализуем простую политику, которая принимает набор параметров и наблюдение в качестве входных данных и возвращает действие. Предположим, что наблюдение — это вектор из четырех чисел, как наблюдение CartPole, и что действие должно быть либо $0$, либо $1$. Предположим также, что параметры — это вектор из четырех действительных чисел. Тогда действие должно быть вычислено следующим образом.\n",
        "\n",
        "\n",
        "1. Вычислите [скалярное произведение векторов](https://www.mathsisfun.com/algebra/vectors-dot-product.html) между наблюдением и параметрами.\n",
        "2. Если результат больше нуля, верните действие $1$.\n",
        "3. В противном случае верните действие $0$.\n",
        "\n",
        "В этом упражнении мы постараемся использовать JAX как можно чаще. Поэтому постарайтесь использовать методы JAX для этой задачи. Ниже приведены некоторые полезные методы, которые вы можете использовать. Вам нужно будет завершить код в блоке ниже, заменив `...` правильным кодом.\n",
        "\n",
        "\n",
        "**Полезные методы:**\n",
        "* Вычислите скалярное произведение векторов с помощью `jax.numpy.dot` ([docs](https://jax.readthedocs.io/en/latest/_autosummary/jax.numpy.dot.html)).\n",
        "\n",
        "* Когда вы пытаетесь условно присвоить значение $0$ или $1$ действию на основе результата скалярного произведения, вам следует использовать `jax.lax.select` ([docs](https://jax.readthedocs.io/en/latest/_autosummary/jax.lax.select.html#jax.lax.select)).\n",
        "\n",
        "Метод `jax.lax.select` принимает три аргумента в качестве входных данных. Первый аргумент — это оператор, который будет оцениваться как `True` или `False`.\n",
        "\n",
        "Если оператор равен `True`, то `jax.lax.select` вернет свой второй аргумент.\n",
        "\n",
        "Если оператор имеет значение `False`, `jax.lax.select` вернет свой третий аргумент.\n",
        "\n"
      ]
    },
    {
      "cell_type": "code",
      "execution_count": 49,
      "metadata": {
        "id": "KSGCd7XB1z8k"
      },
      "outputs": [],
      "source": [
        "def linear_policy(params, obs):\n",
        "  \"\"\"A simple linear policy\n",
        "\n",
        "  Args:\n",
        "    params: a vector of four real-numbers that give the parameters of the policy\n",
        "    obs: a vector of four real-numbers that give the agent's observation\n",
        "\n",
        "  Returns:\n",
        "    a discrete action given by a 0 or 1\n",
        "  \"\"\"\n",
        "\n",
        "  # Вычисляем скалярное произведение (dot product) параметров и наблюдений\n",
        "  dot_product_result = jnp.dot(params, obs)\n",
        "\n",
        "  # Выбираем действие на основе знака результата\n",
        "  # Если результат больше 0, выбираем действие 1; иначе выбираем действие 0\n",
        "  action = jax.lax.select(\n",
        "      dot_product_result > 0,  # Условие: результат больше 0\n",
        "      1,  # Действие, если условие истинно\n",
        "      0   # Действие, если условие ложно\n",
        "  )\n",
        "  return action"
      ]
    },
    {
      "cell_type": "code",
      "execution_count": 50,
      "metadata": {
        "id": "9EnnBvceb1f3",
        "colab": {
          "base_uri": "https://localhost:8080/"
        },
        "outputId": "736a91d9-8c40-4fcb-bf54-eb2942b36185"
      },
      "outputs": [
        {
          "output_type": "stream",
          "name": "stdout",
          "text": [
            "Your function is correct!\n"
          ]
        }
      ],
      "source": [
        "# @title Проверка упр 1  { display-mode: \"form\" }\n",
        "\n",
        "def check_linear_policy(linear_policy):\n",
        "  fixed_obs = jnp.array([1,1,2,4])\n",
        "\n",
        "  # check case1 - negative dot product.\n",
        "  # weights\n",
        "  params1 = jnp.array([1,1,1,1])\n",
        "  params2 = jnp.array([-1,-1,-1,-1])\n",
        "\n",
        "  hint1 = f\"Неправильный ответ, ваша линейная политика неверна. Действие при \\\n",
        "obs={fixed_obs} и params={params1} должно быть 1\"\n",
        "\n",
        "  hint2 = f\"Неправильный ответ, ваша линейная политика неверна. Действие при \\\n",
        "obs={fixed_obs} и params={params2} должно быть 0\"\n",
        "\n",
        "  hint = None\n",
        "  if linear_policy(params1, fixed_obs) != 1:\n",
        "    hint = hint1\n",
        "  elif linear_policy(params2, fixed_obs) != 0:\n",
        "    hint = hint2\n",
        "\n",
        "  if hint is not None:\n",
        "    print(hint)\n",
        "  else:\n",
        "    print(\"Your function is correct!\")\n",
        "\n",
        "try:\n",
        "  check_linear_policy(linear_policy)\n",
        "except Exception as e:\n",
        "    print(\"An Error Occured: {}\".format(e))"
      ]
    },
    {
      "cell_type": "markdown",
      "metadata": {
        "id": "PkuvT-jf6Ieh"
      },
      "source": [
        "### Функция перехода среды - $P$\n",
        "\n",
        "Теперь, когда у нас есть политика, мы можем передавать действия от агента среде. Затем среда перейдет в новое состояние в ответ на действие агента.\n",
        "\n",
        "В RL мы моделируем этот процесс с помощью **функции перехода состояния** $P$, которая принимает текущее состояние $s_t$ и действие $a_t$ в качестве входных данных и возвращает следующее состояние $s_{t+1}$ в качестве выходных данных:\n",
        "\n",
        "<center>\n",
        "$s_{t+1}=P(s_t, a_t)$\n",
        "</center>\n",
        "\n",
        "В gym мы можем передавать действия среде, вызывая функцию `env.step(<action>)`. Затем функция вернет четыре значения:\n",
        "- **следующее наблюдение**\n",
        "- **награду** за выполненное действие\n",
        "- логический флаг, указывающий, **завершена** игра\n",
        "- некоторую **дополнительную** информацию."
      ]
    },
    {
      "cell_type": "code",
      "execution_count": 51,
      "metadata": {
        "id": "hh0j9-Tk7olb",
        "colab": {
          "base_uri": "https://localhost:8080/"
        },
        "outputId": "d3b3a30e-bb63-49e1-cb42-caa718fdad36"
      },
      "outputs": [
        {
          "output_type": "stream",
          "name": "stdout",
          "text": [
            "Observation: [0.03370932 0.04204474 0.00923174 0.02621876]\n",
            "Action: 1\n",
            "Next observation: [ 0.03455021  0.2370331   0.00975612 -0.26353723]\n",
            "Reward: 1.0\n",
            "Game is done: False\n"
          ]
        }
      ],
      "source": [
        "# Get the initial obs by resetting the env\n",
        "initial_obs = env.reset()\n",
        "\n",
        "# Randomly sample actions from env\n",
        "action = env.action_space.sample()\n",
        "\n",
        "# Step the environment\n",
        "next_obs, reward, done, info = env.step(action)\n",
        "\n",
        "print(\"Observation:\", initial_obs)\n",
        "print(\"Action:\", action)\n",
        "print(\"Next observation:\", next_obs)\n",
        "print(\"Reward:\", reward)\n",
        "print(\"Game is done:\", done)"
      ]
    },
    {
      "cell_type": "markdown",
      "metadata": {
        "id": "bX9iZtu48UYn"
      },
      "source": [
        "### Возврат эпизода - $R_t$\n",
        "\n",
        "В RL мы обычно разбиваем взаимодействие агента с окружающей средой на **эпизоды**. Сумма всех вознаграждений, собранных во время эпизода, - это то, что мы называем **возвратом** эпизода - $R_t$:\n",
        "\n",
        "<center>\n",
        "$R_t=\\sum_{t=0}^Tr_t$,\n",
        "</center>\n",
        "\n",
        "где $r_t$ - это вознаграждение в момент времени $t$, а $T$ - это последний временной шаг. Цель в RL - выбрать действия, которые максимизируют этот ожидаемый будущий возврат $R_t$."
      ]
    },
    {
      "cell_type": "markdown",
      "metadata": {
        "id": "y6KZA1Nq9p47"
      },
      "source": [
        "### Цикл агент-среда\n",
        "Теперь, когда мы знаем, что такое политика, и знаем, как пошагово проходить среду, давайте закроем цикл агент-среда.\n",
        "\n",
        "**Упражнение 2:** Напишите функцию, которая запускает один эпизод CartPole, последовательно выбирая действия и пошагово проходя среду. Вам следует использовать линейную политику, которую мы определили ранее, для выбора действий. Функция должна отслеживать полученное вознаграждение и выводить возврат в конце эпизода.\n",
        "\n",
        "В CartPole агент получает вознаграждение `1` за каждый временной шаг, когда шест все еще стоит вертикально. Если шест падает, игра заканчивается, и агент больше не получает вознаграждения. Игра также заканчивается после `200` временных шагов, поэтому максимальное вознаграждение, которое может получить агент, составляет `200`."
      ]
    },
    {
      "cell_type": "code",
      "execution_count": 52,
      "metadata": {
        "id": "Buy0X7mi-gHP"
      },
      "outputs": [],
      "source": [
        "def run_episode(env):\n",
        "  \"\"\"\n",
        "    Выполняет один эпизод в среде, используя линейную стратегию.\n",
        "\n",
        "    Аргументы:\n",
        "        env: среда Gym, в которой агент взаимодействует.\n",
        "\n",
        "    Возвращает:\n",
        "        episode_return: общая сумма вознаграждений за эпизод.\n",
        "    \"\"\"\n",
        "  episode_return = 0 # Счётчик для отслеживания вознаграждений\n",
        "  done = False # Флаг завершения эпизода\n",
        "  params = jnp.array([1,-2,2,-1]) # Фиксированные параметры стратегии\n",
        "\n",
        "  ## YOUR CODE\n",
        "  obs = env.reset() # Получаем начальное наблюдение из среды\n",
        "\n",
        "  while not done: # Цикл продолжается, пока эпизод не завершится\n",
        "    action = linear_policy(params, obs) # Вычисляем действие с использованием линейной стратегии\n",
        "    action = np.array(action)  # Преобразуем действие в np.array\n",
        "\n",
        "    obs, reward, done, info = env.step(action) # Выполняем шаг в среде\n",
        "\n",
        "    episode_return += reward # Добавляем полученное вознаграждение к общему\n",
        "\n",
        "  return episode_return"
      ]
    },
    {
      "cell_type": "code",
      "execution_count": 53,
      "metadata": {
        "id": "bA2Orj9PVbKO",
        "colab": {
          "base_uri": "https://localhost:8080/"
        },
        "outputId": "4b1fd324-9d48-4adb-85f4-a5ac524cc0c0"
      },
      "outputs": [
        {
          "output_type": "stream",
          "name": "stdout",
          "text": [
            "Looks correct!\n"
          ]
        }
      ],
      "source": [
        "# @title Проверка упр 2 (run me) { display-mode: \"form\" }\n",
        "\n",
        "try:\n",
        "  env.seed(42)\n",
        "  if run_episode(env) == 31:\n",
        "    print(\"Looks correct!\")\n",
        "  else:\n",
        "    print(\"Looks like your implementation might be wrong.\")\n",
        "except Exception as e:\n",
        "    print(\"An Error Occured: {}\".format(e))"
      ]
    },
    {
      "cell_type": "markdown",
      "metadata": {
        "id": "fUGdzHxJnZGl"
      },
      "source": [
        "В CartPole среда считается решенной, когда агент может надежно достичь возврата эпизода 500. Как вы можете видеть, наша текущая политика далека от оптимальной.\n",
        "\n",
        "Один из способов найти оптимальную политику — это случайным образом пробовать разные политики, пока не найдем оптимальную. Эта стратегия называется случайным поиском политики и может быть на удивление эффективной.\n",
        "\n",
        "Прежде чем мы реализуем случайный поиск политики, давайте быстро рассмотрим общий цикл обучения RL, который мы будем использовать для реализации алгоритмов в оставшейся части этого руководства.\n",
        "\n",
        "### Цикл обучения RL общего назначения\n",
        "Мы реализовали для вас цикл обучения RL общего назначения. Цикл обучения принимает несколько аргументов в качестве входных данных, но три наиболее важных для понимания — это `agent_select_action_func`, `agent_learn_func` и `agent_memory`.\n",
        "\n",
        "* `agent_select_action_func` — это функция, которую мы определяем и можем передать в цикл обучения. Функция принимает наблюдение и набор `agent_params` в качестве входных данных и должна возвращать действие.\n",
        "* `agent_learn_func` — это еще один метод, который мы определяем и передаем в цикл обучения. Он должен принимать параметры агента и некоторые «воспоминания» в качестве входных данных, а затем обновлять и возвращать агентам новые параметры.\n",
        "* `agent_memory` — это модуль общего назначения, который мы определяем, который может хранить некоторую релевантную информацию об опыте агента в среде, которую можно использовать в `agent_learn_func`.\n",
        "\n",
        "Ниже приведена функция цикла обучения, которую мы реализовали для вас. Вы можете просмотреть код и попытаться понять его, но это не обязательно. Таким образом, мы скрыли код по умолчанию, просто убедитесь, что вы запустили ячейку кода, прежде чем двигаться дальше, потому что цикл обучения далее в коде."
      ]
    },
    {
      "cell_type": "code",
      "execution_count": 54,
      "metadata": {
        "id": "ZWBwz3zMRjM0"
      },
      "outputs": [],
      "source": [
        "#@title Training loop (run me) { display-mode: \"form\" }\n",
        "\n",
        "# NamedTuple to store transitions\n",
        "Transition = collections.namedtuple(\"Transition\", [\"obs\", \"action\", \"reward\", \"next_obs\", \"done\"])\n",
        "\n",
        "# Training Loop\n",
        "def run_training_loop(env_name, agent_params, agent_select_action_func,\n",
        "    agent_actor_state=None, agent_learn_func=None, agent_learner_state=None,\n",
        "    agent_memory=None, num_episodes=1000, evaluator_period=100,\n",
        "    evaluation_episodes=8, learn_steps_per_episode=1,\n",
        "    train_every_timestep=False, video_subdir=\"\",):\n",
        "    \"\"\"\n",
        "    This function runs several episodes in an environment and periodically does\n",
        "    some agent learning and evaluation.\n",
        "\n",
        "    Args:\n",
        "        env: a gym environment.\n",
        "        agent_params: an object to store parameters that the agent uses.\n",
        "        agent_select_func: a function that does action selection for the agent.\n",
        "        agent_actor_state (optional): an object that stores the internal state\n",
        "            of the agents action selection function.\n",
        "        agent_learn_func (optional): a function that does some learning for the\n",
        "            agent by updating the agent parameters.\n",
        "        agent_learn_state (optional): an object that stores the internal state\n",
        "            of the agent learn function.\n",
        "        agent_memory (optional): an object for storing an retrieving historical\n",
        "            experience.\n",
        "        num_episodes: how many episodes to run.\n",
        "        evaluator_period: how often to run evaluation.\n",
        "        evaluation_episodes: how many evaluation episodes to run.\n",
        "        train_every_timestep: whether to train every timestep rather than at the end\n",
        "            of the episode.\n",
        "        video_subdir: subdirectory to store epsiode recordings.\n",
        "\n",
        "    Returns:\n",
        "        episode_returns: list of all the episode returns.\n",
        "        evaluator_episode_returns: list of all the evaluator episode returns.\n",
        "    \"\"\"\n",
        "\n",
        "    # Setup Cartpole environment and recorder\n",
        "    env = gym.make(env_name, render_mode=\"rgb_array\") # training environment\n",
        "    eval_env = gym.make(env_name, render_mode=\"rgb_array\") # evaluation environment\n",
        "\n",
        "    # Video dir\n",
        "    video_dir = \"./video\"+\"/\"+video_subdir\n",
        "\n",
        "    # Clear video dir\n",
        "    try:\n",
        "      rmtree(video_dir)\n",
        "    except:\n",
        "      pass\n",
        "\n",
        "    # Wrap in recorder\n",
        "    env = RecordVideo(env, video_dir+\"/train\", episode_trigger=lambda x: (x % evaluator_period) == 0)\n",
        "    eval_env = RecordVideo(eval_env, video_dir+\"/eval\", episode_trigger=lambda x: (x % evaluation_episodes) == 0)\n",
        "\n",
        "    # JAX random number generator\n",
        "    rng = hk.PRNGSequence(jax.random.PRNGKey(0))\n",
        "    env.seed(0) # seed environment for reproducability\n",
        "    random.seed(0)\n",
        "\n",
        "    episode_returns = [] # List to store history of episode returns.\n",
        "    evaluator_episode_returns = [] # List to store history of evaluator returns.\n",
        "    timesteps = 0\n",
        "    for episode in range(num_episodes):\n",
        "\n",
        "        # Reset environment.\n",
        "        obs = env.reset()\n",
        "        episode_return = 0\n",
        "        done = False\n",
        "\n",
        "        while not done:\n",
        "\n",
        "            # Agent select action.\n",
        "            action, agent_actor_state = agent_select_action_func(\n",
        "                                            next(rng),\n",
        "                                            agent_params,\n",
        "                                            agent_actor_state,\n",
        "                                            np.array(obs)\n",
        "                                        )\n",
        "\n",
        "            # Step environment.\n",
        "            next_obs, reward, done, _ = env.step(int(action))\n",
        "\n",
        "            # Pack into transition.\n",
        "            transition = Transition(obs, action, reward, next_obs, done)\n",
        "\n",
        "            # Add transition to memory.\n",
        "            if agent_memory: # check if agent has memory\n",
        "              agent_memory.push(transition)\n",
        "\n",
        "            # Add reward to episode return.\n",
        "            episode_return += reward\n",
        "\n",
        "            # Set obs to next obs before next environment step. CRITICAL!!!\n",
        "            obs = next_obs\n",
        "\n",
        "            # Increment timestep counter\n",
        "            timesteps += 1\n",
        "\n",
        "            # Maybe learn every timestep\n",
        "            if train_every_timestep and (timesteps % 4 == 0) and agent_memory and agent_memory.is_ready(): # Make sure memory is ready\n",
        "                # First sample memory and then pass the result to the learn function\n",
        "                memory = agent_memory.sample()\n",
        "                agent_params, agent_learner_state = agent_learn_func(\n",
        "                                                        next(rng),\n",
        "                                                        agent_params,\n",
        "                                                        agent_learner_state,\n",
        "                                                        memory\n",
        "                                                    )\n",
        "\n",
        "        episode_returns.append(episode_return)\n",
        "\n",
        "        # At the end of every episode we do a learn step.\n",
        "        if agent_memory and agent_memory.is_ready(): # Make sure memory is ready\n",
        "\n",
        "            for _ in range(learn_steps_per_episode):\n",
        "                # First sample memory and then pass the result to the learn function\n",
        "                memory = agent_memory.sample()\n",
        "                agent_params, agent_learner_state = agent_learn_func(\n",
        "                                                        next(rng),\n",
        "                                                        agent_params,\n",
        "                                                        agent_learner_state,\n",
        "                                                        memory\n",
        "                                                    )\n",
        "\n",
        "        if (episode % evaluator_period) == 0: # Do evaluation\n",
        "\n",
        "            evaluator_episode_return = 0\n",
        "            for eval_episode in range(evaluation_episodes):\n",
        "                obs = eval_env.reset()\n",
        "                done = False\n",
        "                while not done:\n",
        "                    action, _ = agent_select_action_func(\n",
        "                                    next(rng),\n",
        "                                    agent_params,\n",
        "                                    agent_actor_state,\n",
        "                                    np.array(obs),\n",
        "                                    evaluation=True\n",
        "                                )\n",
        "\n",
        "                    obs, reward, done, _ = eval_env.step(int(action))\n",
        "\n",
        "                    evaluator_episode_return += reward\n",
        "\n",
        "            evaluator_episode_return /= evaluation_episodes\n",
        "\n",
        "            evaluator_episode_returns.append(evaluator_episode_return)\n",
        "\n",
        "            logs = [\n",
        "                    f\"Episode: {episode}\",\n",
        "                    f\"Episode Return: {episode_return}\",\n",
        "                    f\"Average Episode Return: {np.mean(episode_returns[-20:])}\",\n",
        "                    f\"Evaluator Episode Return: {evaluator_episode_return}\"\n",
        "            ]\n",
        "\n",
        "            print(*logs, sep=\"\\t\") # Print the logs\n",
        "\n",
        "    env.close()\n",
        "    eval_env.close()\n",
        "\n",
        "    return episode_returns, evaluator_episode_returns"
      ]
    },
    {
      "cell_type": "markdown",
      "metadata": {
        "id": "CTPlIq4oDBPY"
      },
      "source": [
        "##2. Случайный поиск политики (RPS)\n",
        "В разделе 1 мы использовали фиксированный набор параметров для нашей политики. То есть мы не изучали параметры $\\pi$ $\\theta$, мы просто сохранили их фиксированными ( `params = [1,-2,2,-1]`).\n",
        "\n",
        "Теперь мы реализуем случайный поиск политики (RPS), который представляет собой алгоритм, который случайным образом пробует различные параметры политики и отслеживает лучшие параметры, найденные на данный момент. Мы скажем, что параметры политики $\\theta_A$ лучше параметров $\\theta_B$, если средний возврат эпизода, достигнутый за последние 20 эпизодов политикой с параметрами $\\theta_A$, больше, чем у политики с параметрами $\\theta_B$.\n",
        "\n",
        "Чтобы отслеживать «текущие» параметры, а также «лучшие» параметры, мы будем использовать [NamedTuple](https://www.geeksforgeeks.org/namedtuple-in-python/)."
      ]
    },
    {
      "cell_type": "code",
      "execution_count": 55,
      "metadata": {
        "id": "1DcaC-PQRjM1",
        "colab": {
          "base_uri": "https://localhost:8080/"
        },
        "outputId": "ca7c2d71-96f1-484f-df7a-7b2bd97e6d64"
      },
      "outputs": [
        {
          "output_type": "stream",
          "name": "stdout",
          "text": [
            "Best params: [0. 0. 0. 0.]\n",
            "Current params: [-1. -1. -1. -1.]\n"
          ]
        }
      ],
      "source": [
        "# Parameter container for Random Policy Search\n",
        "RandomPolicySearchParams = collections.namedtuple(\"RandomPolicySearchParams\", [\"current\", \"best\"])\n",
        "\n",
        "# TEST: store two different sets of parameters\n",
        "current_params = np.ones(obs_shape) * -1\n",
        "best_params = np.zeros(obs_shape)\n",
        "rps_params = RandomPolicySearchParams(current_params, best_params)\n",
        "\n",
        "# How to access the best or current params.\n",
        "print(f\"Best params: {rps_params.best}\")\n",
        "print(f\"Current params: {rps_params.current}\")"
      ]
    },
    {
      "cell_type": "markdown",
      "metadata": {
        "id": "v91pDDzGex9a"
      },
      "source": [
        "Далее мы реализуем следующее:\n",
        "- **Функция выбора действия RPS** - определяет, как мы выбираем действия с учетом набора параметров.\n",
        "- **Модуль памяти RPS** - определяет, какой опыт хранить из взаимодействий со средой.\n",
        "- **Функция обучения RPS** - определяет, как мы обновляем и улучшаем параметры нашей политики."
      ]
    },
    {
      "cell_type": "markdown",
      "metadata": {
        "id": "0tExceGeGNYH"
      },
      "source": [
        "### Функция выбора действия RPS\n",
        "Давайте реализуем функцию с именем `random_policy_search_choose_action`, которую мы можем передать в цикл обучения. Функция должна принимать несколько аргументов, чтобы она могла хорошо взаимодействовать с нашим обобщенным циклом обучения, но вам нужно будет использовать только три из них - `params`, `obs` и `evaluation`.\n",
        "\n",
        "- `params` - это экземпляр `RandomPolicySearchParams` с \"current\" и \"best\".\n",
        "- `obs` - это последнее наблюдение из среды.\n",
        "- `evaluation` - это логическое значение, которое указывает, следует ли нам использовать параметры \"current\" или \"best\". Когда `evaluation==True`, мы должны использовать параметры \"best\", в противном случае мы должны использовать параметры \"current\".\n",
        "\n",
        "**Упражнение 3:** Реализуйте функцию `random_policy_search_choose_action`, как описано выше. Вам следует использовать метод `linear_policy`, который мы определили ранее. Вам также понадобится `jax.lax.select()` для условного возврата \"лучшего\" действия или \"текущего\" действия."
      ]
    },
    {
      "cell_type": "code",
      "execution_count": 56,
      "metadata": {
        "id": "1kmwT35JRjM1"
      },
      "outputs": [],
      "source": [
        "def random_policy_search_choose_action(\n",
        "    key,\n",
        "    params,\n",
        "    actor_state,\n",
        "    obs,\n",
        "    evaluation=False\n",
        "):\n",
        "  \"\"\"\n",
        "  Метод выбора действия для случайного поиска политики.\n",
        "\n",
        "  Аргументы:\n",
        "      key: случайное число (seed). В данной функции не используется.\n",
        "      params: параметры агента. В данном случае объект типа `RandomPolicySearchParams`.\n",
        "      actor_state: дополнительная информация об акторе. В данной функции не используется.\n",
        "      obs: последнее наблюдение.\n",
        "      evaluation: булево значение, указывающее, использовать ли \"лучшие параметры\" или \"текущие\".\n",
        "\n",
        "  Возвращает:\n",
        "      Выбранное действие и обновлённый actor_state (без изменений в данном случае).\n",
        "  \"\"\"\n",
        "\n",
        "  # Используем лучшие параметры для вычисления действия, если evaluation=True\n",
        "  best_action = linear_policy(params.best, obs)\n",
        "\n",
        "  # Используем текущие параметры для вычисления действия, если evaluation=False\n",
        "  current_action = linear_policy(params.current, obs)\n",
        "\n",
        "  # Выбираем действие на основе линейной комбинации (дискретизация через порог)\n",
        "  action = jax.lax.select(\n",
        "    evaluation, # Условие: если True, выбираем лучшее действие\n",
        "    best_action, # Сумма на основе лучших параметров\n",
        "    current_action # Сумма на основе текущих параметров\n",
        "  )\n",
        "\n",
        "  return action, actor_state"
      ]
    },
    {
      "cell_type": "code",
      "execution_count": 57,
      "metadata": {
        "id": "YE4xoAgyI3kG",
        "colab": {
          "base_uri": "https://localhost:8080/"
        },
        "outputId": "9fd83ecc-9649-4a85-bf05-1114588e9dad"
      },
      "outputs": [
        {
          "output_type": "stream",
          "name": "stdout",
          "text": [
            "Your function looks correct.\n"
          ]
        }
      ],
      "source": [
        "# @title Проверка упр 3 (run me) {display-mode: \"form\"}\n",
        "\n",
        "def check_random_policy_search_choose_action(choose_action):\n",
        "  key = None # not used\n",
        "  actor_state = None # not used\n",
        "\n",
        "  # obs\n",
        "  obs = np.ones(obs_shape)\n",
        "\n",
        "  evaluation=False\n",
        "  current_params = np.ones(obs_shape) * -1\n",
        "  best_params = np.ones(obs_shape)\n",
        "  rps_params = RandomPolicySearchParams(current_params, best_params)\n",
        "  action, actor_state = choose_action(key,rps_params,actor_state,obs,evaluation)\n",
        "  if action != 0:\n",
        "    return False\n",
        "\n",
        "  evaluation=True\n",
        "  current_params = np.ones(obs_shape) * -1\n",
        "  best_params = np.ones(obs_shape)\n",
        "  rps_params = RandomPolicySearchParams(current_params, best_params)\n",
        "  action, actor_state = choose_action(key,rps_params,actor_state,obs,evaluation)\n",
        "  if action != 1:\n",
        "    return False\n",
        "\n",
        "  return True\n",
        "\n",
        "try:\n",
        "  if check_random_policy_search_choose_action(random_policy_search_choose_action):\n",
        "    print(\"Your function looks correct.\")\n",
        "  else:\n",
        "    print(\"Your function looks incorrect.\")\n",
        "except Exception as e:\n",
        "    print(\"An Error Occured: {}\".format(e))"
      ]
    },
    {
      "cell_type": "markdown",
      "metadata": {
        "id": "6zu51ep7Sh0M"
      },
      "source": [
        "### Память агента RPS\n",
        "\n",
        "Для алгоритма поиска случайной политики нам нужно будет отслеживать средний возврат эпизода для последних 50 эпизодов. Помните, что мы сказали, что «текущие» параметры будут считаться «лучшими» параметрами, если средний возврат эпизода при использовании этих параметров больше предыдущего лучшего среднего возврата эпизода.\n",
        "\n",
        "Мы будем использовать интерфейс памяти общего назначения, который довольно прост. Модуль памяти должен иметь три метода. Первый — это функция `memory.push(<transition>)`, которая добавляет некоторую информацию о последнем переходе среды в память. Второй — это функция `memory.is_ready()`, которая проверяет, готова ли память к обучению. Наконец, функция `memory.sample()` должна возвращать последний набор воспоминаний, которые можно передать в `agent_learn_func`.\n",
        "\n",
        "#### Память среднего возврата эпизода\n",
        "Мы создали для вас простой модуль памяти агента. Он хранит `epsisode_returns` последних 20 эпизодов. Прочитайте нашу реализацию ниже и посмотрите, сможете ли вы ее понять. Метод `memory.sample()` возвращает средний возврат эпизода за последние 20 эпизодов."
      ]
    },
    {
      "cell_type": "code",
      "execution_count": 58,
      "metadata": {
        "id": "YVkTBIK5RjM1"
      },
      "outputs": [],
      "source": [
        "class AverageEpisodeReturnBuffer:\n",
        "\n",
        "    def __init__(self, num_episodes_to_store=50):\n",
        "        \"\"\"\n",
        "        This class implements an agent memory that stores the average episode\n",
        "        return over the last 50 episodes.\n",
        "        \"\"\"\n",
        "        self.num_episodes_to_store = num_episodes_to_store\n",
        "        self.episode_return_buffer = []\n",
        "        self.current_episode_return = 0\n",
        "\n",
        "    def push(self, transition):\n",
        "        self.current_episode_return += transition.reward\n",
        "\n",
        "        if transition.done: # If the episode is done\n",
        "            # Add episode return to buffer\n",
        "            self.episode_return_buffer.append(self.current_episode_return)\n",
        "\n",
        "            # Reset episode return\n",
        "            self.current_episode_return = 0\n",
        "\n",
        "\n",
        "    def is_ready(self):\n",
        "        return len(self.episode_return_buffer) == self.num_episodes_to_store\n",
        "\n",
        "    def sample(self):\n",
        "        average_episode_return = np.mean(self.episode_return_buffer)\n",
        "\n",
        "        # Clear episode return buffer\n",
        "        self.episode_return_buffer = []\n",
        "\n",
        "        return average_episode_return"
      ]
    },
    {
      "cell_type": "markdown",
      "metadata": {
        "id": "0oXBsSa2KjWE"
      },
      "source": [
        "### Функция обучения RPS\n",
        "Наконец, нам нужно реализовать функцию `random_policy_search_learn` для нашего алгоритма поиска случайной политики. Функция обучения довольно проста. Все, что нам нужно сделать, это проверить, лучше ли текущие параметры, чем лучшие параметры. Если они лучше, то установите лучшие параметры в качестве текущих параметров и случайным образом сгенерируйте новый набор текущих параметров.\n",
        "\n",
        "**Упражнение 4:** Напишите функцию для случайной генерации новых весов с использованием JAX. Веса должны быть выбраны из интервала `[-2,2]`.\n",
        "\n",
        "**Полезные функции:**\n",
        "*   `jax.random.uniform` ([docs](https://jax.readthedocs.io/en/latest/_autosummary/jax.random.uniform.html#jax.random.uniform))\n",
        "\n"
      ]
    },
    {
      "cell_type": "code",
      "execution_count": 59,
      "metadata": {
        "id": "8V2yFM2XMjGW"
      },
      "outputs": [],
      "source": [
        "def get_new_random_weights(random_key, old_weights, minval=-2.0, maxval=2.0):\n",
        "\n",
        "    \"\"\"\n",
        "    Генерирует новые случайные веса в заданном интервале [-2, 2].\n",
        "\n",
        "    Аргументы:\n",
        "        random_key: ключ для генерации случайных чисел в JAX.\n",
        "        old_weights: массив старых весов, чтобы взять форму и тип.\n",
        "        minval: минимальное значение случайных чисел (по умолчанию -2.0).\n",
        "        maxval: максимальное значение случайных чисел (по умолчанию 2.0).\n",
        "\n",
        "    Возвращает:\n",
        "        new_params: массив новых случайных весов.\n",
        "    \"\"\"\n",
        "\n",
        "    new_weights_shape = old_weights.shape # you will need to use these values\n",
        "    new_weights_dtype = old_weights.dtype # you will need to use these values\n",
        "\n",
        "\n",
        "    # Генерируем новые случайные веса из диапазона [minval, maxval]\n",
        "    new_params = jax.random.uniform(\n",
        "        random_key,\n",
        "        shape=new_weights_shape,\n",
        "        dtype=new_weights_dtype,\n",
        "        minval=minval,\n",
        "        maxval=maxval\n",
        "    )\n",
        "\n",
        "    return new_params"
      ]
    },
    {
      "cell_type": "code",
      "execution_count": 60,
      "metadata": {
        "id": "T8ifHTKGQlAd",
        "colab": {
          "base_uri": "https://localhost:8080/"
        },
        "outputId": "362ff1d0-b850-4073-f418-57f22393e3b3"
      },
      "outputs": [
        {
          "output_type": "stream",
          "name": "stdout",
          "text": [
            "Function is correct!\n"
          ]
        }
      ],
      "source": [
        "# @title Проверка упр 4 (run me) {display-mode: \"form\"}\n",
        "\n",
        "def check_get_new_random_weights(get_new_random_weights):\n",
        "  old_weights = np.ones(obs_shape, \"float32\")\n",
        "  random_key = jax.random.PRNGKey(42)\n",
        "\n",
        "  # Case 1\n",
        "  new_weights = get_new_random_weights(random_key, old_weights, minval=-2.0, maxval=2.0)\n",
        "\n",
        "  if jnp.array_equal(new_weights, jnp.array([ 0.29657745,1.4265499, -1.7621555, -1.7505779 ])):\n",
        "    print(\"Function is correct!\")\n",
        "  else:\n",
        "    print(\"Something is wrong.\")\n",
        "\n",
        "try:\n",
        "  check_get_new_random_weights(get_new_random_weights)\n",
        "except Exception as e:\n",
        "    print(\"An Error Occured: {}\".format(e))"
      ]
    },
    {
      "cell_type": "markdown",
      "metadata": {
        "id": "2Djxc9j-LzkM"
      },
      "source": [
        "Наша функция обучения получает память в форме среднего возврата эпизода из `AverageEpisodeReturnMemory`, которую мы реализовали ранее. Мы можем использовать это для сравнения текущих параметров с лучшими параметрами. Но нам также нужно будет отслеживать лучший средний возврат эпизода для функции обучения. Для этого мы можем использовать аргумент `learn_state`, который передается в `agent_learn_func` в нашем цикле обучения. Как и в случае с `RandomPolicySearchParams`, мы будем использовать NamedTuple для хранения `best_average_episode_return` в `learn_state`."
      ]
    },
    {
      "cell_type": "code",
      "execution_count": 61,
      "metadata": {
        "id": "4cSH4uYmRjM2",
        "colab": {
          "base_uri": "https://localhost:8080/"
        },
        "outputId": "b6716bd4-815b-43ce-f6aa-d92f04f6ae17"
      },
      "outputs": [
        {
          "output_type": "stream",
          "name": "stdout",
          "text": [
            "Initial best average episode return: -inf\n"
          ]
        }
      ],
      "source": [
        "# A NamedTuple to store the best average episode return so far\n",
        "RandomPolicyLearnState = collections.namedtuple(\n",
        "  \"RandomPolicyLearnState\",\n",
        "  [\"best_average_episode_return\"]\n",
        ")\n",
        "\n",
        "# Test\n",
        "initial_learn_state = RandomPolicyLearnState(best_average_episode_return=-float(\"inf\"))\n",
        "print(\"Initial best average episode return:\", initial_learn_state.best_average_episode_return)"
      ]
    },
    {
      "cell_type": "markdown",
      "metadata": {
        "id": "PxZXdP8bOu6b"
      },
      "source": [
        "Теперь у нас есть все необходимое для реализации функции `random_policy_search_learn`.\n",
        "\n",
        "**Упражнение 5:** Реализуйте функцию `random_policy_search_learn`. Функция должна проверять, лучше ли «текущие» параметры, чем «лучшие» параметры, сравнивая `current_average_episode_return` с `best_average_episode_return`. Функция также должна обновлять `learn_state`."
      ]
    },
    {
      "cell_type": "code",
      "execution_count": 62,
      "metadata": {
        "id": "Te_Q3qzmZcN_"
      },
      "outputs": [],
      "source": [
        "def random_policy_search_learn(key, params, learn_state, memory):\n",
        "    \"\"\"\n",
        "    Обучение методом случайного поиска политики.\n",
        "\n",
        "    Аргументы:\n",
        "        key: случайное число (seed) для генерации новых параметров.\n",
        "        params: текущие и лучшие параметры в виде NamedTuple `RandomPolicySearchParams`.\n",
        "        learn_state: текущее состояние обучения в виде NamedTuple `RandomPolicyLearnState`.\n",
        "        memory: средняя награда для текущих параметров.\n",
        "\n",
        "    Возвращает:\n",
        "        params: обновлённые параметры.\n",
        "        learn_state: обновлённое состояние обучения.\n",
        "    \"\"\"\n",
        "    # Доступ к текущим и лучшим параметрам\n",
        "    best_params = params.best\n",
        "    current_params = params.current\n",
        "\n",
        "    # Средние награды\n",
        "    current_average_episode_return = memory # the memory contains the average episode return\n",
        "    best_average_episode_return = learn_state.best_average_episode_return\n",
        "\n",
        "\n",
        "    # Проверка, улучшились ли текущие параметры\n",
        "    best_params = jax.lax.select(\n",
        "        current_average_episode_return > best_average_episode_return,  # Если текущие параметры лучше\n",
        "        current_params,  # Заменить \"лучшие\" на \"текущие\"\n",
        "        best_params  # Иначе оставить старые \"лучшие\"\n",
        "    )\n",
        "\n",
        "    best_average_episode_return = jax.lax.select(\n",
        "        current_average_episode_return > best_average_episode_return,  # Если текущие параметры лучше\n",
        "        current_average_episode_return,  # Обновить лучшую среднюю награду\n",
        "        best_average_episode_return  # Иначе оставить текущую \"лучшую\" награду\n",
        "    )\n",
        "\n",
        "\n",
        "    # Generate new random parameters\n",
        "    new_params = get_new_random_weights(key, current_params)\n",
        "\n",
        "    # Bundle weights in RandomPolicySearchParams NamedTuple\n",
        "    params = RandomPolicySearchParams(current=new_params, best=best_params)\n",
        "\n",
        "    return params, RandomPolicyLearnState(best_average_episode_return)"
      ]
    },
    {
      "cell_type": "code",
      "execution_count": 63,
      "metadata": {
        "id": "CXHV4k2iBLBF",
        "colab": {
          "base_uri": "https://localhost:8080/"
        },
        "outputId": "2c5bdb3f-8dee-41fc-d177-99c95fcffdfc"
      },
      "outputs": [
        {
          "output_type": "stream",
          "name": "stdout",
          "text": [
            "Your function looks correct.\n"
          ]
        }
      ],
      "source": [
        "#@title Проверка упр 5 {display-mode: \"form\"}\n",
        "\n",
        "params = RandomPolicySearchParams(np.ones(obs_shape, \"float32\"), np.ones(obs_shape, \"float32\") * -1)\n",
        "learn_state = RandomPolicyLearnState(10)\n",
        "memory = 11\n",
        "key = jax.random.PRNGKey(42)\n",
        "\n",
        "try:\n",
        "  new_params, new_learn_state = random_policy_search_learn(key, params, learn_state, memory)\n",
        "\n",
        "  if not jnp.array_equal(new_params.current, jnp.array([ 0.29657745,  1.4265499 , -1.7621555 , -1.7505779 ])):\n",
        "    print(\"Your function is incorrect.\")\n",
        "\n",
        "  elif not jnp.array_equal(new_params.best, jnp.array([1., 1., 1., 1.])):\n",
        "    print(\"Your function is incorrect.\")\n",
        "\n",
        "  elif new_learn_state.best_average_episode_return != 11:\n",
        "    print(\"Your function is incorrect.\")\n",
        "\n",
        "  else:\n",
        "    print(\"Your function looks correct.\")\n",
        "except Exception as e:\n",
        "    print(\"An Error Occured: {}\".format(e))"
      ]
    },
    {
      "cell_type": "markdown",
      "metadata": {
        "id": "5Ol_AxnMBdgP"
      },
      "source": [
        "### Цикл обучения RPS\n",
        "Теперь мы можем собрать все вместе, передав модуль `memory`, функцию `learn` и функцию `choose_action` в цикл обучения. Чтобы ускорить наш алгоритм, мы будем использовать `jax.jit` в функции `learn` и функции `choose_action`."
      ]
    },
    {
      "cell_type": "code",
      "execution_count": 64,
      "metadata": {
        "id": "Qx57tf7vRjM3",
        "colab": {
          "base_uri": "https://localhost:8080/",
          "height": 680
        },
        "outputId": "1c458cb5-fdd4-42f4-9af2-f7f7a4edca11"
      },
      "outputs": [
        {
          "output_type": "stream",
          "name": "stdout",
          "text": [
            "Starting training. This may take up to 5 minutes to complete.\n",
            "Episode: 0\tEpisode Return: 80.0\tAverage Episode Return: 80.0\tEvaluator Episode Return: 143.0\n",
            "Episode: 100\tEpisode Return: 8.0\tAverage Episode Return: 9.55\tEvaluator Episode Return: 144.875\n",
            "Episode: 200\tEpisode Return: 10.0\tAverage Episode Return: 119.65\tEvaluator Episode Return: 141.5\n",
            "Episode: 300\tEpisode Return: 51.0\tAverage Episode Return: 11.35\tEvaluator Episode Return: 139.125\n",
            "Episode: 400\tEpisode Return: 9.0\tAverage Episode Return: 8.9\tEvaluator Episode Return: 127.125\n",
            "Episode: 500\tEpisode Return: 20.0\tAverage Episode Return: 50.4\tEvaluator Episode Return: 123.125\n",
            "Episode: 600\tEpisode Return: 9.0\tAverage Episode Return: 48.15\tEvaluator Episode Return: 150.875\n",
            "Episode: 700\tEpisode Return: 10.0\tAverage Episode Return: 9.25\tEvaluator Episode Return: 156.375\n",
            "Episode: 800\tEpisode Return: 20.0\tAverage Episode Return: 9.95\tEvaluator Episode Return: 146.875\n",
            "Episode: 900\tEpisode Return: 10.0\tAverage Episode Return: 78.6\tEvaluator Episode Return: 139.875\n",
            "Episode: 1000\tEpisode Return: 68.0\tAverage Episode Return: 65.65\tEvaluator Episode Return: 137.125\n"
          ]
        },
        {
          "output_type": "display_data",
          "data": {
            "text/plain": [
              "<Figure size 640x480 with 1 Axes>"
            ],
            "image/png": "[encoded data removed]"
          },
          "metadata": {}
        }
      ],
      "source": [
        "# JIT the learn and choose action functions\n",
        "random_policy_search_learn_jit = jax.jit(random_policy_search_learn)\n",
        "random_policy_search_choose_action_jit = jax.jit(random_policy_search_choose_action)\n",
        "\n",
        "# Initialise the parameters\n",
        "initial_weights = np.ones(obs_shape, \"float32\")\n",
        "initial_params = RandomPolicySearchParams(initial_weights, initial_weights)\n",
        "\n",
        "# Initialise the learn state\n",
        "initial_learn_state = RandomPolicyLearnState(best_average_episode_return=-float(\"inf\"))\n",
        "\n",
        "# Initialise memory\n",
        "memory = AverageEpisodeReturnBuffer(num_episodes_to_store=50)\n",
        "\n",
        "# Run the training loop\n",
        "print(\"Starting training. This may take up to 5 minutes to complete.\")\n",
        "chex.clear_trace_counter()\n",
        "episode_return, evaluator_episode_returns = run_training_loop(\n",
        "                                        env_name,\n",
        "                                        initial_params,\n",
        "                                        random_policy_search_choose_action_jit,\n",
        "                                        None, # no actor state\n",
        "                                        random_policy_search_learn_jit,\n",
        "                                        initial_learn_state,\n",
        "                                        memory,\n",
        "                                        num_episodes=1001,\n",
        "                                        video_subdir=\"rps\"\n",
        "                                    )\n",
        "\n",
        "# Plot graph of evaluator episode returns\n",
        "plt.plot(np.linspace(0, 1000, len(evaluator_episode_returns)), evaluator_episode_returns)\n",
        "plt.title(\"Random Policy Search\")\n",
        "plt.xlabel(\"Episodes\")\n",
        "plt.ylabel(\"Episode Return\")\n",
        "plt.show()"
      ]
    },
    {
      "cell_type": "markdown",
      "metadata": {
        "id": "TG10FG6uS05A"
      },
      "source": [
        "Надеюсь, вы нашли набор оптимальных параметров на CartPole (возврат эпизода достигает `200`). В ячейке ниже вы можете посмотреть несколько видеороликов агента, выполняющего задание."
      ]
    },
    {
      "cell_type": "code",
      "execution_count": 65,
      "metadata": {
        "id": "KgayDJ7KWC4C",
        "colab": {
          "base_uri": "https://localhost:8080/",
          "height": 288
        },
        "outputId": "72af7a5d-5b51-42d3-fa8a-4954b550ec72"
      },
      "outputs": [
        {
          "output_type": "execute_result",
          "data": {
            "text/plain": [
              "<IPython.core.display.HTML object>"
            ],
            "text/html": [
              "\n",
              "<video width=400 controls>\n",
              "      <source src=\"data:video/mp4;base64,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\" type=\"video/mp4\">\n",
              "</video>\n"
            ]
          },
          "metadata": {},
          "execution_count": 65
        }
      ],
      "source": [
        "#@title Visualise Policy {display-mode: \"form\"}\n",
        "#@markdown Choose an episode number that is a multiple of 100 and less than or equal to 2000, and **run** this cell.\n",
        "episode_number = 1000 #@param {type:\"number\"}\n",
        "\n",
        "assert (episode_number % 100) == 0, \"Episode number must be a multiple of 100 since we only record every 100th episode.\"\n",
        "assert episode_number < 1001, \"Episode number must be less than or equal to 2000\"\n",
        "\n",
        "eval_episode_number = int(episode_number / 100 * 8)\n",
        "video_path = f\"./video/rps/eval/rl-video-episode-{eval_episode_number}.mp4\"\n",
        "\n",
        "mp4 = open(video_path,'rb').read()\n",
        "data_url = \"data:video/mp4;base64,\" + b64encode(mp4).decode()\n",
        "HTML(\"\"\"\n",
        "<video width=400 controls>\n",
        "      <source src=\"%s\" type=\"video/mp4\">\n",
        "</video>\n",
        "\"\"\" % data_url)"
      ]
    },
    {
      "cell_type": "markdown",
      "metadata": {
        "id": "Xwf1IKKbrrVn"
      },
      "source": [
        "Итак, случайный поиск политики справился с этой задачей довольно хорошо. Однако здесь происходит очень мало (если вообще происходит) реального *обучения*. Далее давайте рассмотрим реализацию простого алгоритма RL, который может использовать свой опыт для руководства нашим поиском оптимальной политики, а не просто искать ее случайным образом."
      ]
    },
    {
      "cell_type": "markdown",
      "metadata": {
        "id": "XEnSjZVESrxc"
      },
      "source": [
        "## 3. Градиенты политики  (Policy Gradients, PG)\n",
        "Как обсуждалось, цель RL — найти политику, которая максимизирует ожидаемое совокупное вознаграждение (возврат), которое агент получает от среды. Мы можем записать ожидаемый возврат политики как:\n",
        "\n",
        "$J(\\pi_\\theta)=\\mathrm{E}_{\\tau\\sim\\pi_\\theta}\\ [R(\\tau)]$,\n",
        "\n",
        "где $\\pi_\\theta$ — это политика, параметризованная $\\theta$, $\\mathrm{E}$ означает *ожидание*, $\\tau$ — это сокращение для \"*эпизод*\", $\\tau\\sim\\pi_\\theta$ — это сокращение для \"*эпизоды, выбранные с использованием политики* $\\pi_\\theta$\", а $R(\\tau)$ — это возврат эпизода $\\tau$.\n",
        "\n",
        "Затем, цель в RL — найти параметры $\\theta$, которые максимизируют функцию $J(\\pi_\\theta)$. Один из способов найти эти параметры — выполнить градиентный подъем по $J(\\pi_\\theta)$ относительно параметров $\\theta$:\n",
        "\n",
        "$\\theta_{k+1}=\\theta_k + \\alpha \\nabla J(\\pi_\\theta)|_{\\theta_{k}}$,\n",
        "\n",
        "где $\\nabla J(\\pi_\\theta)|_{\\theta_{k}}$ — градиент ожидаемой доходности относительно параметров политики $\\theta_k$, а $\\alpha$ — размер шага. Эта величина, $\\nabla J(\\pi_\\theta)$, также называется **градиентом политики** и очень важна в RL. Если мы сможем вычислить градиент политики, то у нас будет средство, с помощью которого можно напрямую оптимизировать нашу политику.\n",
        "\n",
        "Как оказалось, у нас есть способ вычислить градиент политики, и математический вывод можно найти [здесь](https://spinningup.openai.com/en/latest/spinningup/rl_intro3.html). Но для этого руководства мы опустим вывод и просто дадим вам результат:\n",
        "\n",
        "$\\nabla_{\\theta} J(\\pi_{\\theta})=\\underset{\\tau \\sim \\pi_{\\theta}}{\\mathrm{E}}[\\sum_{t=0}^{T} \\nabla_{\\theta} \\log \\pi_{\\theta}(a_{t} \\mid s_{t}) R(\\tau)]$\n",
        "\n",
        "Неформально, градиент политики равен градиенту логарифма вероятности выбранного действия, умноженного на возврат эпизода, в котором было предпринято действие.\n"
      ]
    },
    {
      "cell_type": "markdown",
      "metadata": {
        "id": "BTnTzgtSuy-y"
      },
      "source": [
        "### REINFORCE\n",
        "REINFORCE — это простой алгоритм RL, который использует градиент политики для поиска оптимальной политики путем увеличения вероятности выбора действий (усиливающих действий), которые, как правило, приводят к эпизодам с высокой отдачей.\n",
        "\n",
        "**Упражнение 6:** Реализуйте функцию, которая берет вероятность действия и отдачу эпизода, в котором действие было предпринято, и вычисляет логарифм вероятности, умноженный на отдачу. Убедитесь, что вы используете JAX.\n",
        "\n",
        "**Полезные функции:**\n",
        "*   `jax.numpy.log`([docs](https://jax.readthedocs.io/en/latest/_autosummary/jax.numpy.log.html))"
      ]
    },
    {
      "cell_type": "code",
      "execution_count": 66,
      "metadata": {
        "id": "bJObUsoUrOyV"
      },
      "outputs": [],
      "source": [
        "def compute_weighted_log_prob(action_prob, episode_return):\n",
        "    \"\"\"\n",
        "    Вычисляет логарифм вероятности действия, умноженный на отдачу эпизода.\n",
        "\n",
        "    Параметры:\n",
        "        action_prob (float): Вероятность выбранного действия.\n",
        "        episode_return (float): Отдача за эпизод, в котором действие было предпринято.\n",
        "\n",
        "    Возвращает:\n",
        "        float: Взвешенный логарифм вероятности действия.\n",
        "    \"\"\"\n",
        "\n",
        "    # Вычисление логарифма вероятности\n",
        "    log_prob = jnp.log(action_prob)\n",
        "\n",
        "    # Умножение на отдачу эпизода\n",
        "    weighted_log_prob = log_prob * episode_return\n",
        "\n",
        "    return weighted_log_prob"
      ]
    },
    {
      "cell_type": "code",
      "execution_count": 67,
      "metadata": {
        "id": "eZPoTwa1Gbm1",
        "colab": {
          "base_uri": "https://localhost:8080/"
        },
        "outputId": "38d41836-8918-4da4-bcc2-34c802c016b3"
      },
      "outputs": [
        {
          "output_type": "stream",
          "name": "stdout",
          "text": [
            "Looks correct.\n"
          ]
        }
      ],
      "source": [
        "#@title Проверка упр 6 {display-mode: \"form\"}\n",
        "\n",
        "try:\n",
        "  action_prob = 0.8\n",
        "  episode_return = 100\n",
        "  result = compute_weighted_log_prob(action_prob, episode_return)\n",
        "  if result != -22.314354:\n",
        "    print(\"Your implementation looks incorrect.\")\n",
        "  else:\n",
        "    print(\"Looks correct.\")\n",
        "except Exception as e:\n",
        "    print(\"An Error Occured: {}\".format(e))"
      ]
    },
    {
      "cell_type": "markdown",
      "metadata": {
        "id": "NmgW9UJ3tIpl"
      },
      "source": [
        "### Rewards-to-go\n",
        "Выполнение градиентного подъема по градиенту логарифма вероятности действия, взвешенного по возврату эпизода, будет иметь тенденцию повышать вероятность действий, которые были в эпизодах с высоким возвратом, независимо от того, *где* в эпизоде ​​было выполнено действие. Это на самом деле не имеет большого смысла, потому что действие ближе к концу эпизода может быть подкреплено, потому что много вознаграждения было собрано ранее в эпизоде, *до* того, как было выполнено действие. Агенты RL должны на самом деле подкреплять действия только на основе их *последствий*. Вознаграждения, полученные до выполнения действия, не влияют на то, насколько хорошим было это действие: только вознаграждения, которые приходят после. Накопленные вознаграждения, полученные после выполнения действия, называются **вознаграждениями-к-переходу** и могут быть вычислены как:\n",
        "\n",
        "$\\hat{R}_i=\\sum_{t=i}^Tr_t$\n",
        "\n",
        "Сравните это с доходностью эпизода:\n",
        "\n",
        "$R(\\tau)=\\sum_{t=0}^Tr_t$\n",
        "\n",
        "Мы можем повысить надежность градиента политики, заменив доходность эпизода на вознаграждения-к-переходу. Градиент политики с оставшимися наградами задается следующим образом:\n",
        "\n",
        "$\\nabla_{\\theta} J(\\pi_{\\theta})=\\underset{\\tau \\sim \\pi_{\\theta}}{\\mathrm{E}}[\\sum_{t=0}^{T} \\nabla_{\\theta} \\log \\pi_{\\theta}(a_{t} \\mid s_{t}) \\hat{R}_t]$\n",
        "\n",
        "**Упражнение 7:** Реализуйте функцию, которая берет список всех наград, полученных в эпизоде, и вычисляет оставшиеся награды. Не беспокойтесь об использовании JAX в этой функции. Вы можете использовать обычные операции Python, такие как `for-loops`."
      ]
    },
    {
      "cell_type": "code",
      "execution_count": 68,
      "metadata": {
        "id": "nV1Hww8E3dUJ"
      },
      "outputs": [],
      "source": [
        "def compute_rewards_to_go(rewards):\n",
        "    \"\"\"\n",
        "    Функция для вычисления оставшихся наград для каждого шага в эпизоде.\n",
        "\n",
        "    EXAMPLE: compute_rewards_to_go([1,2,3,4]) = [10, 9, 7, 4]\n",
        "\n",
        "    Arguments:\n",
        "        rewards[t] (list): Список наград для каждого шага эпизода.\n",
        "\n",
        "    Returns:\n",
        "        rewards_to_go[t] ist: Список оставшихся наград для каждого шага.\n",
        "    \"\"\"\n",
        "\n",
        "\n",
        "    rewards_to_go = []\n",
        "\n",
        "    # Внешний цикл: итерируемся по каждому шагу\n",
        "    for i in range(len(rewards)):\n",
        "        cumulative_reward = 0\n",
        "        # Вложенный цикл: суммируем награды, начиная с текущего шага\n",
        "        for j in range(i, len(rewards)):\n",
        "            cumulative_reward += rewards[j]\n",
        "        # Добавляем накопленное значение в список\n",
        "        rewards_to_go.append(cumulative_reward)\n",
        "    '''\n",
        "    БЕЗ ВЛОЖЕННЫХ ЦИКЛОВ\n",
        "    cumulative_reward = 0\n",
        "    # Идем от последнего шага к первому\n",
        "    for reward in reversed(rewards):\n",
        "        cumulative_reward += reward\n",
        "        rewards_to_go.append(cumulative_reward)\n",
        "\n",
        "    # Переворачиваем список, так как мы шли с конца\n",
        "    rewards_to_go.reverse()\n",
        "    '''\n",
        "    return rewards_to_go"
      ]
    },
    {
      "cell_type": "code",
      "execution_count": 69,
      "metadata": {
        "id": "hLVaVRp28YGI",
        "colab": {
          "base_uri": "https://localhost:8080/"
        },
        "outputId": "9c11c1ad-c4e3-462e-fdb1-f0bd98f8c935"
      },
      "outputs": [
        {
          "output_type": "stream",
          "name": "stdout",
          "text": [
            "Looks correct.\n"
          ]
        }
      ],
      "source": [
        "#@title Проверка упр 7 {display-mode: \"form\"}\n",
        "\n",
        "try:\n",
        "  result = compute_rewards_to_go([1,2,3,4])\n",
        "\n",
        "  if result != [10, 9, 7, 4]:\n",
        "    print(\"There is a problem with your implementation.\")\n",
        "  else:\n",
        "    print(\"Looks correct.\")\n",
        "except Exception as e:\n",
        "    print(\"An Error Occured: {}\".format(e))\n"
      ]
    },
    {
      "cell_type": "markdown",
      "metadata": {
        "id": "IboxN9MS65i5"
      },
      "source": [
        "### REINFORCE memory\n",
        "Далее нам нужно будет создать новую память агента для хранения вознаграждений $\\hat{R}_t$ вместе с наблюдением $o_t$ и действием $a_t$ на каждом временном шаге. Ниже мы реализовали такой модуль памяти для вас. Функция `memory.sample()` вернет пакет из последних 500 воспоминаний. Вы можете прочитать код, чтобы попытаться понять его, но это не обязательно. Поэтому мы скрываем код по умолчанию."
      ]
    },
    {
      "cell_type": "code",
      "execution_count": 70,
      "metadata": {
        "id": "xhS4V6auRjM3"
      },
      "outputs": [],
      "source": [
        "# @title Реализация памяти (run me) {display-mode: \"form\"}\n",
        "\n",
        "# NamedTuple to store memory\n",
        "EpisodeRewardsToGoMemory = collections.namedtuple(\"EpisodeRewardsToGoMemory\", [\"obs\", \"action\", \"reward_to_go\"])\n",
        "\n",
        "class EpisodeRewardsToGoBuffer:\n",
        "\n",
        "    def __init__(self, num_transitions_to_store=512, batch_size=256):\n",
        "        self.batch_size = batch_size\n",
        "        self.memory_buffer = collections.deque(maxlen=num_transitions_to_store)\n",
        "        self.current_episode_transition_buffer = []\n",
        "\n",
        "    def push(self, transition):\n",
        "        self.current_episode_transition_buffer.append(transition)\n",
        "\n",
        "        if transition.done:\n",
        "\n",
        "            episode_rewards = []\n",
        "            for t in self.current_episode_transition_buffer:\n",
        "                episode_rewards.append(t.reward)\n",
        "\n",
        "            r2g = compute_rewards_to_go(episode_rewards)\n",
        "\n",
        "            for i, t in enumerate(self.current_episode_transition_buffer):\n",
        "                memory = EpisodeRewardsToGoMemory(t.obs, t.action, r2g[i])\n",
        "                self.memory_buffer.append(memory)\n",
        "\n",
        "            # Reset episode buffer\n",
        "            self.current_episode_transition_buffer = []\n",
        "\n",
        "\n",
        "    def is_ready(self):\n",
        "        return len(self.memory_buffer) >= self.batch_size\n",
        "\n",
        "    def sample(self):\n",
        "        random_memory_sample = random.sample(self.memory_buffer, self.batch_size)\n",
        "\n",
        "        obs_batch, action_batch, reward_to_go_batch = zip(*random_memory_sample)\n",
        "\n",
        "        return EpisodeRewardsToGoMemory(\n",
        "            np.stack(obs_batch).astype(\"float32\"),\n",
        "            np.asarray(action_batch).astype(\"int32\"),\n",
        "            np.asarray(reward_to_go_batch).astype(\"int32\")\n",
        "        )\n",
        "\n",
        "\n",
        "# Instantiate Memory\n",
        "REINFORCE_memory = EpisodeRewardsToGoBuffer(num_transitions_to_store=512, batch_size=256)"
      ]
    },
    {
      "cell_type": "markdown",
      "metadata": {
        "id": "Idkav_aSYXvz"
      },
      "source": [
        "### Policy neural network\n",
        "Далее мы будем использовать простую нейронную сеть для аппроксимации политики. Наша нейронная сеть политики будет иметь входной слой, который принимает наблюдение в качестве входных данных и пропускает его через два скрытых слоя, а затем выводит одно скалярное значение для каждого из возможных действий. Таким образом, в CartPole выходной слой будет иметь размер `2`.\n",
        "\n",
        "[Haiku](https://github.com/deepmind/dm-haiku) — это библиотека для реализации нейронных сетей в JAX. Ниже мы реализовали простую функцию для создания сети политики для вас.\n"
      ]
    },
    {
      "cell_type": "code",
      "execution_count": 71,
      "metadata": {
        "id": "j2XO7VkORjM4"
      },
      "outputs": [],
      "source": [
        "def make_policy_network(num_actions: int, layers=[20, 20]) -> hk.Transformed:\n",
        "  \"\"\"Factory for a simple MLP network for the policy.\"\"\"\n",
        "\n",
        "  def policy_network(obs):\n",
        "    network = hk.Sequential(\n",
        "        [\n",
        "            hk.Flatten(),\n",
        "            hk.nets.MLP(layers + [num_actions])\n",
        "        ]\n",
        "    )\n",
        "    return network(obs)\n",
        "\n",
        "  return hk.without_apply_rng(hk.transform(policy_network))"
      ]
    },
    {
      "cell_type": "markdown",
      "metadata": {
        "id": "1GR2y8FjaG-G"
      },
      "source": [
        "У сетей Haiku есть две важные функции, о которых вам нужно знать. Первая — `network.init(<random_key>, <input>)`, которая возвращает набор случайных начальных параметров. Второй метод — `network.apply(<params>, <input>)`, который передает входные данные через сеть, используя предоставленный набор параметров."
      ]
    },
    {
      "cell_type": "code",
      "execution_count": 72,
      "metadata": {
        "id": "fJrn9o-Vatkw",
        "colab": {
          "base_uri": "https://localhost:8080/"
        },
        "outputId": "515d98eb-6c84-4af7-9d93-6ac5b72df659"
      },
      "outputs": [
        {
          "output_type": "stream",
          "name": "stdout",
          "text": [
            "Initial params: dict_keys(['mlp/~/linear_0', 'mlp/~/linear_1', 'mlp/~/linear_2'])\n",
            "Policy network output: [ 0.91155875 -0.3961737 ]\n"
          ]
        }
      ],
      "source": [
        "# Example\n",
        "POLICY_NETWORK = make_policy_network(num_actions=num_actions, layers=[20,20])\n",
        "random_key = jax.random.PRNGKey(42) # random key\n",
        "dummy_obs = np.ones(obs_shape, \"float32\")\n",
        "\n",
        "# Initialise parameters\n",
        "REINFORCE_params = POLICY_NETWORK.init(random_key, dummy_obs)\n",
        "print(\"Initial params:\", REINFORCE_params.keys())\n",
        "\n",
        "# Pass input through the network\n",
        "output = POLICY_NETWORK.apply(REINFORCE_params, dummy_obs)\n",
        "print(\"Policy network output:\", output)\n"
      ]
    },
    {
      "cell_type": "markdown",
      "metadata": {
        "id": "MlouUBvoeunz"
      },
      "source": [
        "Выходы нашей сети политик — [логиты](https://qr.ae/pv4YTe). Чтобы преобразовать это в распределение вероятностей по действиям, мы передаем логиты в функцию [softmax](https://en.wikipedia.org/wiki/Softmax_function).\n",
        "\n",
        "### УСИЛЕНИЕ выбор функции действия\n",
        "\n",
        "**Упражнение 8:** Завершите функцию ниже, которая берет вектор логитов и случайным образом выбирает действие из категориального распределения, заданного логитами.\n",
        "\n",
        "**Полезные функции:**"
      ]
    },
    {
      "cell_type": "code",
      "execution_count": 73,
      "metadata": {
        "id": "m3Z8DxUmeOGJ"
      },
      "outputs": [],
      "source": [
        "def sample_action(random_key, logits):\n",
        "\n",
        "  action = jax.random.categorical(random_key, logits)\n",
        "\n",
        "  return action"
      ]
    },
    {
      "cell_type": "code",
      "execution_count": 74,
      "metadata": {
        "id": "5opHJMO0D_Ub",
        "colab": {
          "base_uri": "https://localhost:8080/"
        },
        "outputId": "3b138a00-5aa7-4c25-c32a-e1cb43a181bd"
      },
      "outputs": [
        {
          "output_type": "stream",
          "name": "stdout",
          "text": [
            "Seems correct.\n"
          ]
        }
      ],
      "source": [
        "#@title Проверка упр 8 {display-mode: \"form\"}\n",
        "\n",
        "try:\n",
        "  random_key = jax.random.PRNGKey(42) # random key\n",
        "  action = sample_action(random_key, np.array([1,2], \"float32\"))\n",
        "  if action != 1:\n",
        "    print(\"Your function is incorrect.\")\n",
        "  else:\n",
        "    print(\"Seems correct.\")\n",
        "except Exception as e:\n",
        "    print(\"An Error Occured: {}\".format(e))"
      ]
    },
    {
      "cell_type": "markdown",
      "metadata": {
        "id": "jP5UH87VRjM4"
      },
      "source": [
        "Теперь мы можем реализовать функцию `REINFORCE_choose_action`. Мы передадим наблюдение через сеть политики для вычисления логитов, а затем передадим логиты в функцию `sample_action` для выбора и действия."
      ]
    },
    {
      "cell_type": "code",
      "execution_count": 75,
      "metadata": {
        "id": "UJTzrDAZ0Ul5"
      },
      "outputs": [],
      "source": [
        "def REINFORCE_choose_action(key, params, actor_state, obs, evaluation=False):\n",
        "  obs = jnp.expand_dims(obs, axis=0) # add dummy batch dim before passing through network\n",
        "\n",
        "  # Pass obs through policy network to compute logits\n",
        "  logits = POLICY_NETWORK.apply(params, obs)\n",
        "  logits = logits[0] # remove batch dim\n",
        "\n",
        "  # Randomly sample action\n",
        "  sampled_action = sample_action(key, logits)\n",
        "\n",
        "  return sampled_action, actor_state"
      ]
    },
    {
      "cell_type": "markdown",
      "metadata": {
        "id": "NI26SLAb7iRo"
      },
      "source": [
        "Теперь, когда мы реализовали функцию `REINFORCE_choose_action`, нам осталось только создать функцию `REINFORCE_learn`. Функция обучения должна использовать функцию `weighted_log_prob`, которую мы создали ранее, чтобы вычислить потери градиента политики и применить обновления градиента к нашей нейронной сети."
      ]
    },
    {
      "cell_type": "markdown",
      "metadata": {
        "id": "36ALCJESQJ8e"
      },
      "source": [
        "### Policy gradient loss\n",
        "\n",
        "\n",
        "**Упражнение 9:** Завершите функцию `policy_gradient_loss` ниже. Функция должна вычислять вероятности действий, пропуская `logits` через функцию softmax. Затем следует извлечь вероятность заданного `action` (используя индексацию массива) и вычислить `weighted_log_prob`, используя функцию, которую мы создали ранее.\n",
        "\n",
        "**Полезные методы:**\n",
        "*   `jax.nn.softmax` ([docs](https://jax.readthedocs.io/en/latest/_autosummary/jax.nn.softmax.html))"
      ]
    },
    {
      "cell_type": "code",
      "execution_count": 76,
      "metadata": {
        "id": "9sUKkqx0RjM4"
      },
      "outputs": [],
      "source": [
        "def policy_gradient_loss(action, logits, reward_to_go):\n",
        "\n",
        "  # YOUR CODE\n",
        "\n",
        "  # Преобразование логитов в вероятности с помощью softmax\n",
        "  all_action_probs = jax.nn.softmax(logits)\n",
        "  print(all_action_probs)\n",
        "\n",
        "  # Извлечение вероятности выбранного действия\n",
        "  action_prob = all_action_probs[action]\n",
        "  print(action_prob)\n",
        "\n",
        "  # Вычисление weighted log prob\n",
        "  weighted_log_prob = compute_weighted_log_prob(action_prob, reward_to_go)\n",
        "  print(weighted_log_prob)\n",
        "\n",
        "  # END YOUR CODE\n",
        "\n",
        "  loss = - weighted_log_prob # negative because we want gradient `ascent`\n",
        "  print(loss)\n",
        "\n",
        "  return loss"
      ]
    },
    {
      "cell_type": "code",
      "execution_count": 43,
      "metadata": {
        "id": "7AMJvau1FsM5",
        "colab": {
          "base_uri": "https://localhost:8080/"
        },
        "outputId": "6d2db84a-8ff5-4ef3-c247-35eeb094edca"
      },
      "outputs": [
        {
          "output_type": "stream",
          "name": "stdout",
          "text": [
            "[0.26894143 0.7310586 ]\n",
            "0.7310586\n",
            "-3.1326165\n",
            "3.1326165\n",
            "Your implementation looks wrong.\n"
          ]
        }
      ],
      "source": [
        "#@title Проверка упр 9 {display-mode: \"form\"}\n",
        "\n",
        "try:\n",
        "  result = policy_gradient_loss(1, np.array([1,2], \"float32\"), 10)\n",
        "  if result != 3.1326175:\n",
        "    print(\"Your implementation looks wrong.\")\n",
        "  else:\n",
        "    print(\"Looks correct.\")\n",
        "except Exception as e:\n",
        "  print(\"An Error Occured: {}\".format(e))\n"
      ]
    },
    {
      "cell_type": "markdown",
      "metadata": {
        "id": "Gzuqx1jJrwVx"
      },
      "source": [
        "Когда мы делаем шаг обновления градиента политики, мы захотим сделать это, используя пакет опыта, а не просто один опыт, как выше. Мы можем использовать функцию JAX [vmap](https://jax.readthedocs.io/en/latest/_autosummary/jax.vmap.html#jax.vmap), чтобы легко заставить нашу функцию `policy_gradient_loss` работать с пакетом опыта."
      ]
    },
    {
      "cell_type": "code",
      "execution_count": 77,
      "metadata": {
        "id": "3yq4naLURjM4",
        "colab": {
          "base_uri": "https://localhost:8080/"
        },
        "outputId": "a5d277ae-f889-4939-82a6-97cc0abd1f6e"
      },
      "outputs": [
        {
          "output_type": "stream",
          "name": "stdout",
          "text": [
            "Traced<ShapedArray(float32[2])>with<BatchTrace(level=1/0)> with\n",
            "  val = Array([[0.78713346, 0.21286654],\n",
            "       [0.78713346, 0.21286654],\n",
            "       [0.78713346, 0.21286654]], dtype=float32)\n",
            "  batch_dim = 0\n",
            "Traced<ShapedArray(float32[])>with<BatchTrace(level=1/0)> with\n",
            "  val = Array([0.21286654, 0.78713346, 0.78713346], dtype=float32)\n",
            "  batch_dim = 0\n",
            "Traced<ShapedArray(float32[])>with<BatchTrace(level=1/0)> with\n",
            "  val = Array([-3.5583065, -1.0292372, -0.5026507], dtype=float32)\n",
            "  batch_dim = 0\n",
            "Traced<ShapedArray(float32[])>with<BatchTrace(level=1/0)> with\n",
            "  val = Array([3.5583065, 1.0292372, 0.5026507], dtype=float32)\n",
            "  batch_dim = 0\n",
            "Policy gradient loss on batch: 1.6967314\n"
          ]
        }
      ],
      "source": [
        "def batched_policy_gradient_loss(params, obs_batch, action_batch, reward_to_go_batch):\n",
        "    # Get logits by passing observation through network\n",
        "    logits_batch = POLICY_NETWORK.apply(params, obs_batch)\n",
        "\n",
        "    policy_gradient_loss_batch = jax.vmap(policy_gradient_loss)(\n",
        "        action_batch,\n",
        "        logits_batch,\n",
        "        reward_to_go_batch) # add batch\n",
        "\n",
        "    # Compute mean loss over batch\n",
        "    mean_policy_gradient_loss = jnp.mean(policy_gradient_loss_batch)\n",
        "\n",
        "    return mean_policy_gradient_loss\n",
        "\n",
        "# TEST\n",
        "obs_batch = np.ones((3, *obs_shape), \"float32\")\n",
        "actions_batch = np.array([1,0,0])\n",
        "rew2go_batch = np.array([2.3, 4.3, 2.1])\n",
        "\n",
        "loss = batched_policy_gradient_loss(REINFORCE_params, obs_batch, actions_batch, rew2go_batch)\n",
        "\n",
        "print(\"Policy gradient loss on batch:\", loss)"
      ]
    },
    {
      "cell_type": "markdown",
      "metadata": {
        "id": "VDhTH3culwqo"
      },
      "source": [
        "### Оптимизатор сети\n",
        "\n",
        "Чтобы применить обновления градиента политики к нашей нейронной сети, мы будем использовать библиотеку JAX под названием [Optax](https://github.com/deepmind/optax). Optax имеет реализацию [оптимизатора Adam](https://www.geeksforgeeks.org/intuition-of-adam-optimizer/), которую мы можем использовать."
      ]
    },
    {
      "cell_type": "code",
      "execution_count": 78,
      "metadata": {
        "id": "pxXINlMHP5Ic"
      },
      "outputs": [],
      "source": [
        "REINFORCE_OPTIMIZER = optax.adam(1e-3)\n",
        "\n",
        "# Initialise the optimiser\n",
        "REINFORCE_optim_state = REINFORCE_OPTIMIZER.init(REINFORCE_params)"
      ]
    },
    {
      "cell_type": "markdown",
      "metadata": {
        "id": "ViENrHOALbCw"
      },
      "source": [
        "Теперь у нас есть все необходимое для создания функции `REINFORCE_learn`. Мы сохраним состояние оптимизатора в `learn_state`. Мы вычислим градиент потерь градиента политики с помощью  `jax.grad` ([docs](https://jax.readthedocs.io/en/latest/_autosummary/jax.grad.html))."
      ]
    },
    {
      "cell_type": "code",
      "execution_count": 79,
      "metadata": {
        "id": "CQr2Uz5ORjM5"
      },
      "outputs": [],
      "source": [
        "# A NamedTuple to store the state of the optimiser\n",
        "REINFORCELearnState = collections.namedtuple(\"LearnerState\", [\"optim_state\"])\n",
        "\n",
        "\n",
        "def REINFORCE_learn(key, params, learner_state, memory):\n",
        "\n",
        "  # Get the policy gradient by using `jax.grad()` on `batched_policy_gradient_loss`\n",
        "  grad_loss = jax.grad(batched_policy_gradient_loss)(params, memory.obs, memory.action, memory.reward_to_go)\n",
        "\n",
        "  # Get param updates using gradient and optimizer\n",
        "  updates, new_optim_state = REINFORCE_OPTIMIZER.update(grad_loss, learner_state.optim_state)\n",
        "\n",
        "  # Apply updates to params\n",
        "  params = optax.apply_updates(params, updates)\n",
        "\n",
        "  return params, REINFORCELearnState(new_optim_state) # update learner state"
      ]
    },
    {
      "cell_type": "markdown",
      "metadata": {
        "id": "5an3U2NhRKgG"
      },
      "source": [
        "### Цикл обучения REINFORCE\n",
        "Теперь мы можем обучить нашего агента REINFORCE, собрав все воедино с помощью цикла обучения."
      ]
    },
    {
      "cell_type": "code",
      "execution_count": 80,
      "metadata": {
        "id": "vioIcVGsRjM5",
        "colab": {
          "base_uri": "https://localhost:8080/",
          "height": 1000
        },
        "outputId": "58752570-638f-418c-febb-bfd8da2885c9"
      },
      "outputs": [
        {
          "output_type": "stream",
          "name": "stdout",
          "text": [
            "Starting training. This may take up to 10 minutes to complete.\n",
            "Episode: 0\tEpisode Return: 12.0\tAverage Episode Return: 12.0\tEvaluator Episode Return: 23.875\n",
            "Traced<ShapedArray(float32[2])>with<BatchTrace(level=4/0)> with\n",
            "  val = Traced<ShapedArray(float32[256,2])>with<JVPTrace(level=3/0)> with\n",
            "    primal = Traced<ShapedArray(float32[256,2])>with<DynamicJaxprTrace(level=1/0)>\n",
            "    tangent = Traced<ShapedArray(float32[256,2])>with<JaxprTrace(level=2/0)> with\n",
            "      pval = (ShapedArray(float32[256,2]), None)\n",
            "      recipe = JaxprEqnRecipe(eqn_id=<object object at 0x78af2cba2170>, in_tracers=(Traced<ShapedArray(float32[256,2]):JaxprTrace(level=2/0)>, Traced<ShapedArray(float32[256,1]):JaxprTrace(level=2/0)>, Traced<ShapedArray(float32[256,1]):JaxprTrace(level=2/0)>, Traced<ShapedArray(float32[256,2]):JaxprTrace(level=2/0)>, Traced<ShapedArray(float32[256,1]):JaxprTrace(level=2/0)>), out_tracer_refs=[<weakref at 0x78af2a7ec860; to 'JaxprTracer' at 0x78af2a7ece50>], out_avals=[ShapedArray(float32[256,2])], primitive=pjit, params={'jaxpr': { lambda ; a:f32[256,2] b:f32[256,1] c:f32[256,1] d:f32[256,2] e:f32[256,1]. let\n",
            "    f:f32[256,2] = div a c\n",
            "    g:f32[256,1] = neg b\n",
            "    h:f32[256,2] = mul g d\n",
            "    i:f32[256,2] = mul h e\n",
            "    j:f32[256,2] = add_any f i\n",
            "  in (j,) }, 'in_shardings': (UnspecifiedValue, UnspecifiedValue, UnspecifiedValue, UnspecifiedValue, UnspecifiedValue), 'out_shardings': (UnspecifiedValue,), 'in_layouts': (None, None, None, None, None), 'out_layouts': (None,), 'resource_env': None, 'donated_invars': (False, False, False, False, False), 'name': 'true_divide', 'keep_unused': False, 'inline': True}, effects=set(), source_info=<jax._src.source_info_util.SourceInfo object at 0x78af2a7dddb0>, ctx=JaxprEqnContext(compute_type=None,threefry_partitionable=False),xla_metadata={})\n",
            "  batch_dim = 0\n",
            "Traced<ShapedArray(float32[])>with<BatchTrace(level=4/0)> with\n",
            "  val = Traced<ShapedArray(float32[256])>with<JVPTrace(level=3/0)> with\n",
            "    primal = Traced<ShapedArray(float32[256])>with<DynamicJaxprTrace(level=1/0)>\n",
            "    tangent = Traced<ShapedArray(float32[256])>with<JaxprTrace(level=2/0)> with\n",
            "      pval = (ShapedArray(float32[256]), None)\n",
            "      recipe = JaxprEqnRecipe(eqn_id=<object object at 0x78af2cba22e0>, in_tracers=(Traced<ShapedArray(float32[256,1]):JaxprTrace(level=2/0)>,), out_tracer_refs=[<weakref at 0x78af2a793830; to 'JaxprTracer' at 0x78af2a793330>], out_avals=[ShapedArray(float32[256])], primitive=squeeze, params={'dimensions': (1,)}, effects=frozenset(), source_info=<jax._src.source_info_util.SourceInfo object at 0x78af2a7dfac0>, ctx=JaxprEqnContext(compute_type=None,threefry_partitionable=False),xla_metadata={})\n",
            "  batch_dim = 0\n",
            "Traced<ShapedArray(float32[])>with<BatchTrace(level=4/0)> with\n",
            "  val = Traced<ShapedArray(float32[256])>with<JVPTrace(level=3/0)> with\n",
            "    primal = Traced<ShapedArray(float32[256])>with<DynamicJaxprTrace(level=1/0)>\n",
            "    tangent = Traced<ShapedArray(float32[256])>with<JaxprTrace(level=2/0)> with\n",
            "      pval = (ShapedArray(float32[256]), None)\n",
            "      recipe = JaxprEqnRecipe(eqn_id=<object object at 0x78af2cba26b0>, in_tracers=(Traced<ShapedArray(float32[256]):JaxprTrace(level=2/0)>, Traced<ShapedArray(float32[256]):JaxprTrace(level=2/0)>), out_tracer_refs=[<weakref at 0x78af2a7ed620; to 'JaxprTracer' at 0x78af2a7ed9e0>], out_avals=[ShapedArray(float32[256])], primitive=pjit, params={'jaxpr': { lambda ; a:f32[256] b:f32[256]. let c:f32[256] = mul a b in (c,) }, 'in_shardings': (UnspecifiedValue, UnspecifiedValue), 'out_shardings': (UnspecifiedValue,), 'in_layouts': (None, None), 'out_layouts': (None,), 'resource_env': None, 'donated_invars': (False, False), 'name': '_multiply', 'keep_unused': False, 'inline': True}, effects=set(), source_info=<jax._src.source_info_util.SourceInfo object at 0x78af2a6152a0>, ctx=JaxprEqnContext(compute_type=None,threefry_partitionable=False),xla_metadata={})\n",
            "  batch_dim = 0\n",
            "Traced<ShapedArray(float32[])>with<BatchTrace(level=4/0)> with\n",
            "  val = Traced<ShapedArray(float32[256])>with<JVPTrace(level=3/0)> with\n",
            "    primal = Traced<ShapedArray(float32[256])>with<DynamicJaxprTrace(level=1/0)>\n",
            "    tangent = Traced<ShapedArray(float32[256])>with<JaxprTrace(level=2/0)> with\n",
            "      pval = (ShapedArray(float32[256]), None)\n",
            "      recipe = JaxprEqnRecipe(eqn_id=<object object at 0x78af2cba2840>, in_tracers=(Traced<ShapedArray(float32[256]):JaxprTrace(level=2/0)>,), out_tracer_refs=[<weakref at 0x78af2a7edb20; to 'JaxprTracer' at 0x78af2a7edc10>], out_avals=[ShapedArray(float32[256])], primitive=pjit, params={'jaxpr': { lambda ; a:f32[256]. let b:f32[256] = neg a in (b,) }, 'in_shardings': (UnspecifiedValue,), 'out_shardings': (UnspecifiedValue,), 'in_layouts': (None,), 'out_layouts': (None,), 'resource_env': None, 'donated_invars': (False,), 'name': 'negative', 'keep_unused': False, 'inline': True}, effects=set(), source_info=<jax._src.source_info_util.SourceInfo object at 0x78af2a615e70>, ctx=JaxprEqnContext(compute_type=None,threefry_partitionable=False),xla_metadata={})\n",
            "  batch_dim = 0\n",
            "Episode: 100\tEpisode Return: 48.0\tAverage Episode Return: 56.15\tEvaluator Episode Return: 81.125\n",
            "Episode: 200\tEpisode Return: 200.0\tAverage Episode Return: 178.65\tEvaluator Episode Return: 182.125\n",
            "Episode: 300\tEpisode Return: 151.0\tAverage Episode Return: 161.55\tEvaluator Episode Return: 182.375\n",
            "Episode: 400\tEpisode Return: 129.0\tAverage Episode Return: 164.75\tEvaluator Episode Return: 159.75\n",
            "Episode: 500\tEpisode Return: 188.0\tAverage Episode Return: 192.3\tEvaluator Episode Return: 190.25\n",
            "Episode: 600\tEpisode Return: 200.0\tAverage Episode Return: 183.9\tEvaluator Episode Return: 200.0\n",
            "Episode: 700\tEpisode Return: 200.0\tAverage Episode Return: 200.0\tEvaluator Episode Return: 200.0\n",
            "Episode: 800\tEpisode Return: 200.0\tAverage Episode Return: 200.0\tEvaluator Episode Return: 198.125\n",
            "Episode: 900\tEpisode Return: 200.0\tAverage Episode Return: 198.35\tEvaluator Episode Return: 200.0\n",
            "Episode: 1000\tEpisode Return: 200.0\tAverage Episode Return: 200.0\tEvaluator Episode Return: 195.75\n"
          ]
        },
        {
          "output_type": "display_data",
          "data": {
            "text/plain": [
              "<Figure size 640x480 with 1 Axes>"
            ],
            "image/png": "[encoded data removed]"
          },
          "metadata": {}
        }
      ],
      "source": [
        "# JIT the choose_action and learn functions for more speed\n",
        "REINFORCE_learn_jit = jax.jit(REINFORCE_learn)\n",
        "REINFORCE_choose_action_jit = jax.jit(REINFORCE_choose_action)\n",
        "\n",
        "# Initial learn state\n",
        "REINFORCE_learn_state = REINFORCELearnState(REINFORCE_optim_state)\n",
        "\n",
        "# Run training loop\n",
        "print(\"Starting training. This may take up to 10 minutes to complete.\")\n",
        "episode_returns, evaluator_returns = run_training_loop(\n",
        "                                        env_name,\n",
        "                                        REINFORCE_params,\n",
        "                                        REINFORCE_choose_action_jit,\n",
        "                                        None, # action state not used\n",
        "                                        REINFORCE_learn_jit,\n",
        "                                        REINFORCE_learn_state,\n",
        "                                        REINFORCE_memory,\n",
        "                                        num_episodes=1001,\n",
        "                                        learn_steps_per_episode=2,\n",
        "                                        video_subdir=\"reinforce\"\n",
        "                                      )\n",
        "\n",
        "# Plot the episode returns\n",
        "plt.plot(episode_returns)\n",
        "plt.xlabel(\"Episode\")\n",
        "plt.ylabel(\"Episode Return\")\n",
        "plt.title(\"REINFORCE\")\n",
        "plt.show()\n"
      ]
    },
    {
      "cell_type": "code",
      "execution_count": 83,
      "metadata": {
        "id": "caKL3ngNr_Yh",
        "colab": {
          "base_uri": "https://localhost:8080/",
          "height": 288
        },
        "outputId": "04abd04d-b337-4ed4-af4b-158d65d895ec"
      },
      "outputs": [
        {
          "output_type": "execute_result",
          "data": {
            "text/plain": [
              "<IPython.core.display.HTML object>"
            ],
            "text/html": [
              "\n",
              "<video width=400 controls>\n",
              "      <source src=\"data:video/mp4;base64,AAAAIGZ0eXBpc29tAAACAGlzb21pc28yYXZjMW1wNDEAAAAIZnJlZQAAMC1tZGF0AAACrgYF//+q3EXpvebZSLeWLNgg2SPu73gyNjQgLSBjb3JlIDE2MyByMzA2MCA1ZGI2YWE2IC0gSC4yNjQvTVBFRy00IEFWQyBjb2RlYyAtIENvcHlsZWZ0IDIwMDMtMjAyMSAtIGh0dHA6Ly93d3cudmlkZW9sYW4ub3JnL3gyNjQuaHRtbCAtIG9wdGlvbnM6IGNhYmFjPTEgcmVmPTMgZGVibG9jaz0xOjA6MCBhbmFseXNlPTB4MzoweDExMyBtZT1oZXggc3VibWU9NyBwc3k9MSBwc3lfcmQ9MS4wMDowLjAwIG1peGVkX3JlZj0xIG1lX3JhbmdlPTE2IGNocm9tYV9tZT0xIHRyZWxsaXM9MSA4eDhkY3Q9MSBjcW09MCBkZWFkem9uZT0yMSwxMSBmYXN0X3Bza2lwPTEgY2hyb21hX3FwX29mZnNldD0tMiB0aHJlYWRzPTMgbG9va2FoZWFkX3RocmVhZHM9MSBzbGljZWRfdGhyZWFkcz0wIG5yPTAgZGVjaW1hdGU9MSBpbnRlcmxhY2VkPTAgYmx1cmF5X2NvbXBhdD0wIGNvbnN0cmFpbmVkX2ludHJhPTAgYmZyYW1lcz0zIGJfcHlyYW1pZD0yIGJfYWRhcHQ9MSBiX2JpYXM9MCBkaXJlY3Q9MSB3ZWlnaHRiPTEgb3Blbl9nb3A9MCB3ZWlnaHRwPTIga2V5aW50PTI1MCBrZXlpbnRfbWluPTI1IHNjZW5lY3V0PTQwIGludHJhX3JlZnJlc2g9MCByY19sb29rYWhlYWQ9NDAgcmM9Y3JmIG1idHJlZT0xIGNyZj0yMy4wIHFjb21wPTAuNjAgcXBtaW49MCBxcG1heD02OSBxcHN0ZXA9NCBpcF9yYXRpbz0xLjQwIGFxPTE6MS4wMACAAAAB/mWIhAAv//72rvzLK0cLlS4dWXuzUfLoSXL9iDB9aAAAAwAAAwAAJuKiZ0WFMeJsgAAALmAIWElDyDzETFWKgSjlXwOp/9FjNZrLKlsP+DFnAJj1ivp+ttk0M0CVAnU9StzDrXlWg4YPTSkQQXr9nwAaVstsNs+O6sCpDJmxs8Q5qiHz5+vgk0glfwVIuzHxtEDNMo630NyBF2NMy4qYtU698Pn+iDqdd648Xk5e/bi7vyNWnfc0jYtjosPiLbVJ0cSjDMXB5WnFa+gucFTjzrm390Y8kt7PCnFpiWWFJK86697hXkuMbcy0FyYhd3ZtAxVt/l04APkM3Eeo+cRwC76ipiCwMgEgz7Rk3zDHuUAIHmUFsGaJf59P1RF9N++b80JB8ENvG8WjH/BlF0PfVVECYgJruosj7YjtPxajUgkOflV69GYdz2nFcw+b74FQBfNZ1n3yWTTht6d8dDWcOpnDEoSM1HD6wqgLiPBhoVCYpjO6d40tJgPorV5v/+s+loQ/bD74d/v3cH1TP+YKNsSl0KPGzVM/n1K1bFhkVh6GDavGj+90F2ScELfogTfTA8CS2LJErOzbrk+nFje5RtHgN4/5BwFrZ026yAJJz/2jvgZ/ronck/RAQk2uKuai/0B6U4nB6uVwcEPv/HoAAAMAF6WAAAADAAADAAAHbQAAAMNBmiFsQv/+jLAAAEYIgJpL3cy5OP0CfAci4ABxp43SAE+H4ybuVeMnZOlg9+lNix5LU2gAKRQwjzHqWYRYV0NZNpZM1mzE/RfSdVAQQEDufTRfskfphmaHDcQ0aOy39jj4MPkOih0Kmf+whza/F9eiUE3nfqKSbj9v64lAgkdqkDmXgtt+Su3F2ljE39rJZgnMZNBJ15RqyJks30l+gXke0xXahdVTEjFzT8QbeqKBmTR6C+e+ms77ucFewfYthckLK2AAAABGQZpDPCGTKYQz//6eEAAAGd9jwEILibL0We6p8saKsk5BgA6/K7K/ML4A6qr5pBysv//45NOIde9stS2i6iOBqvvFp+fUkQAAADIBnmJqR/8AACOuMu7msOAhzJxc2UvQd5fZutj3mwQAs7df7QMvLPUBcq7YQmhh9h6/wAAAAGlBmmdJ4Q8mUwIZ//6eEAAACf+z+LityKAHH6aK7Oc1f+mpp2lXPalAVPO6TWMgcE/g7CAwP6GfdTejftFpKhfMaowCLLZEi6GVJ86MeLo24SQJL/Gx2Qoe6dP6ouZi2eZvYl0vRk/I6WEAAAA1QZ6FRRE8I/8AAAMDOFJRjIAFo+maxvgr1V8A6qKNXunicdbMLVsKJVCd+htC4X3KBkbTIW8AAAAlAZ6kdEf/AAAFHjU62kFDTUIUAtCTlyZ095B03kCE0DWApXEnAwAAACEBnqZqR/8AAAMB5FrvXjHqVXdqc6MzgqGMwpdF+l8WNgMAAACKQZqrSahBaJlMCF///oywAABGAvf9UFsbQA2w3CZlM4EnlN80eudLML/Akor8ch4eeJe3Ya+jVYCAjs0Ku6GmEo0Nj3k7OfTEhfTQb2qwwRh0jTi1EHV1P2onXZlakfCVG07ENk2FKgRTY0sjVCUrdCaW3sjtgBzV6Pp1TcHfVOXXBELFHqcrNdDAAAAAO0GeyUURLCP/AAAWtVZpqLUZLR1y5Y7QE2DgAIW5KHwBUHzzXIi5vrmF4dzcwDUuKDSKZbSggsMLE73AAAAAHAGe6HRH/wAAI6w5Ba5PHsIxDDfqrmevdIfuosEAAAAdAZ7qakf/AAANhJUs+HRH+B7BX9mpKrvoCGv3XvcAAAAoQZrvSahBbJlMCF///oywAAAZ6rNak+HTpHc+TffHnhGXECW9lDHIeAAAAD5Bnw1FFSwj/wAACCwLjG1UEzLvEiQ/ADbVJpR/fZypNbi4QxQJs1jEezjazhtQJb8sWNSXOhjV+Uv1sXn4HwAAABcBnyx0R/8AAA0uFJr23fNco32mBPkc3QAAACsBny5qR/8AAA2CMRWWQe+kjzy/9g6eMmBVN0gAHAXRpo3oFvRChChyy56ZAAAAc0GbMUmoQWyZTBRMM//+nhAAAEVFCDQA6RqZ8TUSE2dW2wvFhaEqoXtSLcn6Ana5CZ/qy19V/8+1rrZx2O6oLXNhQtrsG9dyIBEpyZ9T6TZdvtl2ybJmCwdU9P1fYZ6SuQFbTaX231I+UH8ZhKiWtlk3EIAAAAAvAZ9Qakf/AAAjvxV+dQAsqoFn56TbGhLWlS5B3VwdfmCPkx4vLsaqqEoRrfy17UgAAABYQZtVSeEKUmUwIZ/+nhAAAAMDtpY90634ue86m7N/gTfFwAfC/U+bZhcmZaJqsXXaiEGUYgxyHpGQMjehIKFvACpWldQlxw6wkbxLLrc1Q15rgoc+8fozRQAAAB9Bn3NFNEwj/wAAAwE1gGK8kSskOTGVqjRl3q+RvL7YAAAAIwGfknRH/wAAAwHailNAHU00H7OLNrEkbi8T1OUli/io/v6QAAAAFAGflGpH/wAAAwHbf+lCFoPXI3HBAAAAgkGbmUmoQWiZTAhn//6eEAAARUUINADobycV90hBg4DOqw0QzOXxrZpoNcRA333qmS7Cha/WOMaFFVot1oDKQc04O0+3TZpdhONxjYXKdqlWaJfzHTwHVneD/o0quRPa6zIc60Ue3i3fE/7TCZd26IpgQQ8oKD9PnpnuQ6Rsor4BfYgAAAAyQZ+3RREsI/8AABa1WFZ1eZeZzL7koJYs3F+Bpbbl7tgAdZZm1Gnz5ZH1f6JXazNQg7cAAAA1AZ/WdEf/AAAjwz4NbeCqAC2qVWwtx+sN46jti3XJtqU9ssm83QUXamDt4zFP6UeiCyh22YEAAAAwAZ/Yakf/AAAjx8a6X5dlUAFtUqthbj9KSRZQin/bsI6OYGdl0Rn6nmE3SzfP0CVAAAAAj0Gb3UmoQWyZTAhn//6eEAAARVUVOrGMANiTWWyytlqFDtOnOu18764yDHTZqDDP1T6/GpLxwNwlCEi/wKDJbMiGYS3iPstWNyflZElmZxPEZDp6h2GJEFeiaPiLQrgCTmYy4xE5YBiCih2DS8vJaoBoC2MIWKYtKNzvmTLoZ/YXaY8S9SPzJ6vJAz2bvr4hAAAAIUGf+0UVLCP/AAAWtVhViLezXXkAruOPs6Qy3mWBDSfzkgAAACkBnhp0R/8AACM90wOE8WAxV+77L/iYP8+MJj/eoScAGwpYHGStAdgWzQAAABQBnhxqR/8AAAT7NNXhXBkmZmCtgQAAAH1BmgFJqEFsmUwIZ//+nhAAAEVVFUz1hj1gBx7oO70iNZUM20jmo3AGQFf99qmHhDmB1IWDGV871PdY7yga57IAkoAeHAnymlHjjDNUvtjL4I5lImIQ+baCGxn6ZzAkRXsx2D3IyOH5Fjpi2kPy2blB00Gh64erx+luBVy6xQAAACNBnj9FFSwj/wAAFrxObMK4+sdVwrXzaL+SU7QC9XkdNICSYAAAABMBnl50R/8AAAT4W3nwbD9TVmP9AAAAHgGeQGpH/wAAI7IrBwpKqK0o9+zqJ/YIsJkLbjZ1RgAAACNBmkVJqEFsmUwIZ//+nhAAAAm3xYvHvQ5rQA3GmSFc6qAGpQAAABlBnmNFFSwj/wAAAwMkU/TrG9+QI5GZWAoIAAAAFAGegnRH/wAABPhc9UARGySxwwVtAAAAFAGehGpH/wAAAwHxgfOHOinPNGkvAAAAR0GaiUmoQWyZTAhf//6MsAAARgLQ+Z1doASbLYWQn0/ihU9f+em9bIc8YN7sR0EYl/eV7uKFvVxB5tuxjYltEKQ/5u5cB9mRAAAAMUGep0UVLCP/AAAWs0iL3zY9cPEWkdb3e5LDvQAUX2kxIkHkMAD5zou0kYLkC7AP9bMAAAAbAZ7GdEf/AAADAfCMu29x85NSqKu9FAVABzkgAAAAJgGeyGpH/wAAI7IsYQS8FH5oih0Rw3JqQ0rfwcM26qCvkMwkD5uAAAAAYUGazUmoQWyZTAhf//6MsAAAGqVsY/dVTFRUU5XyIy75T1wWCC5z4nOq9QAflA0xylX6uOeXkAK1xOT/2ZTpkinlTDEnMBnaFuIphToWiemqxRe1vyKoEmUHH7CNEuY/QVEAAAAhQZ7rRRUsI/8AAAhsCh8Y5Z75Y9JqufVM2HJbYC0pnB9sAAAAHgGfCnRH/wAADYXriK93NaWXsF/Ua+8M12Rw/xu2YAAAABQBnwxqR/8AAAMB8YHziJ7gCsDUgQAAAEBBmw9JqEFsmUwUTDP//p4QAABHRQT3HGG/2hh77PxD135HLxmi71/ghXizftNeF+P7idgnOo4GlaG6JIGxWBzfAAAALAGfLmpH/wAAJLHMDUeL+PVZpdN9kLXVqzpjXH4E7Qu25uDgdGuTCubkiHAhAAAAZkGbM0nhClJlMCGf/p4QAAAaf+RBABza/Ls0To9FgNRd9o39YU+CLSzVN9Gs/9yKnwxkbTlKN663Rm/l1rSv/0g844ScV0Qk+8GnCDfV5YcDIajU8AmB0zTqEVyFojK9j+sGATKurAAAAERBn1FFNEwj/wAAAwNNYWBaxzS/W+zaJsNJYBEa806ozWRpv+ae5+vJJ77jErPmVK7Ysvn2LpQOrEWkRoih2SA+OlgYGAAAAB0Bn3B0R/8AAAVAUmm2K0YAMaP5i/7nV5HEr/T7YQAAACQBn3JqR/8AAAVBPmC8su6ogxSqzJPBFTDUwm/efkuXqoZuLUgAAABJQZt3SahBaJlMCGf//p4QAABHRQg0AcUGS8CT4IMRaohpnMbYa1+se4b6ZRM/lxhfZxmx1J2jFp/52/3GkqmZnmn9LFTbPxg0wAAAAC1Bn5VFESwj/wAAF0xDy6ZBk4LU4q6rvzt+oAh27EuU+vEUqgGR1f5LGoqWTakAAAAbAZ+0dEf/AAAFQFt5kk93KSSHyC+uTi3lh3uAAAAAFgGftmpH/wAAJLHMCW+pb7IVltssMGEAAABLQZu7SahBbJlMCGf//p4QAABHRQWo82+gIS1f4cRNNBbbSS3JjVP7sfjsurfntsCTtvZtA85Kl4R8vo8m/ZHnDjq0bO16ovpsNiiBAAAAJUGf2UUVLCP/AAAXRSs3a1p09ACR1ek0kQow3jPKjYgPlFaTB7gAAAAiAZ/4dEf/AAAkq/hbeBKOz38Rd2pz7+7Cxwt/XwYFO+Q4IQAAABEBn/pqR/8AAAMAR341nUwtoAAAADdBm/9JqEFsmUwIZ//+nhAAAEdUqUH2JwH6+xOFS6eSRtaAgWTOgAnRsAK3OiiiOHsQYh7TbbPhAAAAHUGeHUUVLCP/AAAXRSs3a1peuKKDwjCwOdzHmocFAAAAIQGePHRH/wAAJKv4W3gSWtv8Fre3NWw71L6i2lKDWCSj3AAAAA4Bnj5qR/8AAAMAAAMBqQAAADVBmiNJqEFsmUwIZ//+nhAAAEdoxnzeK+0eVIhn0M5sdsv3AFGKqW+J2mU1PsMKu307da7fgQAAADJBnkFFFSwj/wAAF0NHtw3DigBuJX+uaeaCACUQbyNGIAZ8CSYNsyVP8vIHFNLBcnTrwAAAACEBnmB0R/8AACTDF2ipqOjDHnHTeI/NI9bsgim3MRWnkWEAAAAdAZ5iakf/AAAkvwQnEslpmrhWUx8qO34vrY0EkWAAAABuQZpnSahBbJlMCGf//p4QAABHRQVM48AZgbWfhoR5xR0dyo4AbXxuZzR9TwDQl+yjWos97U/D9ryllJfJjVsF9+MMpD9qpSX5PtqD9+4sbvd2eJXBlQFfk+p7KNigJoX2UirVk2U+sf6bOK8RebUAAAAiQZ6FRRUsI/8AABdFKzd4iFbr/nZHbPF7VK6UNEm6XAbwQQAAABkBnqR0R/8AACTDF2ippVPU+4QNfp2CoNWBAAAAFwGepmpH/wAAAwAKhnkMwUD9pLR2zu+BAAAAb0Gaq0moQWyZTAhn//6eEAAAGvwyviQQCZdsSIB6WjnQ091xisarql0MMiuAU7ZYkJWdyceaAshNRZ3oXxIXZmAhf+e2CPOLF0xh4Ooz3I0vjXqx6KwqhA7/NxCq5EY0iXYyOZSdvZ+fUSze2PchrAAAAC9BnslFFSwj/wAAAwNKijqeQeZ5Cf6rp4n3AocBIvQCyKj2LW3oPfTGAmSp24vywAAAACgBnuh0R/8AAA3V6vLv/LzMYy/NbK7ugu+egmWt2YULcEHefseNxbUhAAAAKAGe6mpH/wAABUJKXdfw6amYNZGt9KA9Ts6vv1debIrI3AXNXI8Xe4AAAACaQZrvSahBbJlMCGf//p4QAABHRQg0Afmhti12/+z7+vmC8zRTNzmOEELY8qiSa2XNHCX4EvaZ6H/VCdgx4OI6ie7nAaaNocfMh0CDed6WCSOXwMu/EQVIxCTLnqpM9OJd0VuHlAumMSZURl188E5+i5HIJSyBqO/JWUF16W08wxyWSNtmvP1/+dUhYsyj7QYdhRmzNziFJUjHogAAACdBnw1FFSwj/wAAF0xDzcwHEDS+nPJgXorm03gsxD8JIgVp3p4sD3EAAAAcAZ8sdEf/AAANzgDXNuCw5wwhQ5Gmr+QNAF8JwQAAACcBny5qR/8AACSxy/2ieU/TzvpkST/j0tD9zRNs2YP+91Y/0aOUZ18AAABFQZszSahBbJlMCGf//p4QAABHUQlPGeAGdWB5foWeU2waDoiOw3ZIWE44dCAth7lELLmRSRsdE74oH9/plSzId4d9YeAIAAAAI0GfUUUVLCP/AAAXTEPNtxXMs0XvZE7S8EHbojfgagJh0xqQAAAADgGfcHRH/wAAAwAAAwGpAAAAOQGfcmpH/wAAJLHL5EYnoqAkqEXZAMaHn9+BZPkz7XvHebj6AEl3YmRHk3/g8vYr4ysIBbGIpIzMLAAAAItBm3dJqEFsmUwIZ//+nhAAAEdFCDQBQEFcKqzWiHP1FFtsk0sj6fUeUWVvomfJjRLoq+2uNDGsebztnjSXUu/Eb6VjTi3tqkEuYEDOcMsrLRixX/iolm9uKA6+/WO6nDaYd3frzTrQoyj8vLa/m4vldRmmSbG6WFgtGIVquJta2kObYoUL2ktgHbuAAAAANUGflUUVLCP/AAAXTEPNtxXMrJl2GIVa/t013X8yi2P9Z2DaD1VgAmtmBD+eKsznoPSHGP91AAAAFwGftHRH/wAAAwAKz7KthHoL4zZt4LuAAAAAMQGftmpH/wAAJLHMCW/nFNAALYnkOnuEm3RU6WRP4lFlhBMpNedXYC3IdcP8QO8z+LEAAABNQZu7SahBbJlMCGf//p4QAABHUQl45/JagcAA0VydEbqM6nPwegpcmfXZJPuRjO3cztDKZW/dSsTrcVL2cic/uQr/NfEUPIoF9ZJgNHEAAAAkQZ/ZRRUsI/8AABdFKzdrWmB3BTREVUwzSw5+bgTYhEry6HuAAAAAIgGf+HRH/wAAJKv4W3gSnb6yDPPdSxF7mNsxR1zG/pZIe4EAAAAUAZ/6akf/AAADABp1WqdW9MBGFnAAAABSQZv/SahBbJlMCF///oywAAAKUdy2LnSztbCmYAJ23w7/A39qG/kD1TrZCb1MPvuH3nm1tojC/8ju/McaMUguqeWCwekyKVLR+P+flP6QbOzJqQAAACFBnh1FFSwj/wAAAwNMUwqxWcfrT7wwbiFaw1IqZTo7avcAAAAcAZ48dEf/AAAFQ9DBg2zxtKJqp7IUGobJeHHYsAAAAA4Bnj5qR/8AAAMAAAMBqQAAAEFBmiNJqEFsmUwIX//+jLAAAEgC0Pq2SoAFZ5I8L8zytQqKX+PKPoVVha8cDSPLlMdQTQp0QnaZX42omuVYW50c8QAAACdBnkFFFSwj/wAAF0VYVdjB0KZA3UQmSAFdOUifwu4VEun6AmHziLAAAAAVAZ5gdEf/AAAkwz4OeNhPQqvOfj1hAAAAGgGeYmpH/wAABUM01bGssCqUsBcQViA49o+mAAAAUkGaZkmoQWyZTAhf//6MsAAAClmvUQAP23U/8LJuqZ1X7/3yLV8VPlzHFzsNfTPbAi9zRl6Zitrvet9kOXH2LhFQ50y5uFXRyVLtuDa/jJvshykAAAAjQZ6ERRUsI/8AAAMDTFPo5iPF9edt7AEmlAKsgNVZrmTOXcEAAAAiAZ6lakf/AAAkrl/tDQ6uQ5LFcIzcqGvXJa2VhqGkvQojuwAAADFBmqpJqEFsmUwIX//+jLAAAApQaYa6VY4vFkT3LdB+qv238ajTNElnf0Bcpq2eBX7hAAAAIUGeyEUVLCP/AAADA00x1CuW53PwrCUZSsPLWakysFooLAAAABMBnud0R/8AAAMAvuFJp5HZImNWAAAAGQGe6WpH/wAABUE+YOJnHIY6jp2d8CEC/TEAAAAzQZrtSahBbJlMCF///oywAABIAtD5nNguN/W6MoifG0stycfp66pkAOM4v46TV/U9JsUMAAAAGUGfC0UVLCP/AAAXRVhVis7xKrQfJ7c+TMAAAAAOAZ8sakf/AAADAAADAakAAABlQZsuSahBbJlMCGf//p4QAAAKOwwAAAlm4vw328Wh8PF12semo+hhOI39954gXBmoYYMgv6W/oef+VGSEapa50XKng7AAtyANPf45nh0LtoSxHa0e+DjXJey7l1yqIl45ixyfEnEAAABkQZtSSeEKUmUwIZ/+nhAAAEdFCDQAq2wx7yJagEieuaBOvH0eoYPilzBsn0+OEb1byrXhGZ7cnF0H3fEORPlHPJRaU8yYTYOiiGNlhYaqkJy6s98i/XoLnaT7LE+TmIZ0e3L22QAAAB9Bn3BFNEwj/wAAF0VYVzDVeCS2Z2dFwN+w6+BNVqXgAAAAGgGfj3RH/wAAJKw5Ba6aQyvc5cqJvxGQ7IkWAAAAEgGfkWpH/wAABWcwl3CmwdA+YQAAAHdBm5ZJqEFomUwIZ//+nhAAAEdUqU5vRWuOwd+exrx5d9ACKiANc42K0DEVTuhKJ2KzrD7nmioxpYfvWSDY+wNQ+qfYxXA4W+YL1vVZAWg5WH7ZbYPzoMjiaR6+kt1y0vUPdVDrvl5oavxmGWMQHIMUuarJIAzl5AAAADVBn7RFESwj/wAAF0VYt6PVWIz38UjE2tXR09lkDsxknkvwALgoQZ7haztUsMUs6NAug93D3AAAACQBn9N0R/8AACTDPpZpX3S4FEsyKBbgCUvLS6jY0UlKu50qJuEAAAAaAZ/Vakf/AAAN1J5I0LzDoHmaB3fzCiv+UWAAAABcQZvaSahBbJlMCGf//p4QAAAa+2E8PAFOs3QmPMTUIWKq5GgvrrgjFFzo1mIYEo/6dyUWcnoUsoKTw6uZEZSLONeNjrZNia0WCLYztTMSF7NgUH2tT5szT4wU04EAAAAeQZ/4RRUsI/8AAAisABbr4yqWWDrqXOgeUkNJa2pBAAAAKwGeF3RH/wAADc9G+rNe7XUnbB/PlBkV4RV9KMgOLhIq1XVAkDlyauEf6kAAAAATAZ4Zakf/AAANhJ6jpBv10YMrYQAAAE1Bmh5JqEFsmUwIX//+jLAAAEgC1TEAlQGBO23g0vW+JS95EpBy2BcTz02eIAmHVyF/0zNUcGmMspkFtNzrqXx/2pkCacsphmDVcGl6SQAAACBBnjxFFSwj/wAAF0VYVYl10RcILdwiuarWHSJPBVuTdwAAAC0Bnlt0R/8AACTDPg6g7v8v+7wOFDbMDiv6F64lyAHXXAAH8kVWoeqhtOBXFgUAAAAQAZ5dakf/AAADAAPi/8VlQAAAAGJBmkJJqEFsmUwIX//+jLAAAEoUW0Uja2ssI2Ih4ID/FZAm7D8bSK0kd+IIzwcj96MJxVU8uWAY6z+HI1DdfHF4bYWG4cYxpU7lkUdYKkU+yOBpgMIThL02fDmZZy+OajrnkAAAAEFBnmBFFSwj/wAAF+mDzbcVzTG2LavC+utHVQxIAAcHC7IROQ5FGUGQWP6YnX9tabfQwtKFCu5NQHD8OEsrDV27gQAAABwBnp90R/8AAAVAW3mSx8jEgdLdlGgQDkHQgbuAAAAAHgGegWpH/wAAJbHMCW+oZ3Zh1A4e5Goj8nkV80mRFwAAAEdBmoVJqEFsmUwIX//+jLAAAEoC094DTOLJHgzL/W/DdteKA/C5xFn5+WH4Q6tOa4GHnoPHiXri7V2knY8yk/eLB6EIxafIsAAAAD1BnqNFFSwj/wAAF+JrOLj5B/7NdXZKyABXaxRBVDT5HDlxjjuji1GC1a2D9RACZ5ZHlLPebJ8EWX8kd42BAAAAJwGexGpH/wAADiv0tgxv8K7X14Ku57BOABdDzszbufq+QRq/VgzxsQAAAEpBmsdJqEFsmUwUTC///oywAABKAs+bvb8gIegtlYmdK/3iqq460B2A3W3c85xUIr83IsnIo9nD7bz7FIvAEQNwegX2FQzskvXdVwAAADEBnuZqR/8AACW/BCcR4SJkgfaxq3QwTJ0XlRT9BYbgYlUjzF12AAPazvQ2spqhKUkHAAAAaEGa6knhClJlMCGf/p4QAABJUQlPBTZGXEmgBWd0m5TC51L/lXJA5KiaH7gi3dPcogqhigeu+7ImrX39y1Hs/yXXV8IAPq4UgRjtZDghqdCcXNH7MKiXXH8D4J3sqcumtcd5JHwwGYEIAAAAKkGfCEU0TCP/AAAX6YPNtYxEnwC65TWNkMankRw44flIvY1JIuHgATQ7rAAAAC8BnylqR/8AACW/BCcSx/z8wUSfeYXSgxaq0ALbrQnQ6WZZp+di2c7NhDOXUJHz4QAAAGNBmy5JqEFomUwIZ//+nhAAAElFBRTejIVw5F5yxmEAbx6gh/ZdezOQrP84N1YqsvRk4xHZb5zHMLrDUs5ZRyx8fMIi0sBgC7H3noBXKkZMwZk0SW7c7gwjLZ/ylzhuOzF+WpgAAAAiQZ9MRREsI/8AABfpg823FcyvAwUfWtF+pbs1aUXGw6u0gwAAABABn2t0R/8AAAMASVh4oK2BAAAAGwGfbWpH/wAAJbHMCW+pb7IVSPv8BijIPnebcQAAAJFBm3JJqEFsmUwIX//+jLAAAEoQjyxBrMv7ksAG3KkXquVze0EZBDYi9NEl6CF86OLNMTlXlPcpYAc2f7CABXL1PszSekBaAm3Pga/2j3x76n2f2qR2LnRazEw/krr+qa7gg3XRVqFC9fKJTquCNOQUY/VwHbAhSZkF4pwLPHzTwtESQ91mNkWpYjzNG190HhXxAAAAN0GfkEUVLCP/AAAX3+weoy0Z6AEdr8NPs9EdwscBFz+y2cR9+JY+ptfK7Q6lPfD0ZNPVjJWOoVsAAAAXAZ+vdEf/AAAlq/hbeBKdaCOIEZ6x8R8AAAAoAZ+xakf/AAAlrl4zf+kqmSSTtUs6QkFP3AJn2H375V78qr17984M+QAAAD1Bm7ZJqEFsmUwIX//+jLAAAEoB8fk9AftwZf71hBemZqAAb3yx8Kdh9Jow1/knnhKFs8eyjiKrdmjSUd6wAAAAPUGf1EUVLCP/AAAX4Ie3DeMZ/IOo4YAH7aKeF8TbON18bhGONVEAg2m8IWjKR9OMVkyg8gbaQmhQMduQCBAAAAAZAZ/zdEf/AAAlwxdoqaVT1PvCCY1EozZ8wQAAACABn/VqR/8AACW/BCWSJMmgKNnKz4jKA6Zxj7c4wG424AAAAGRBm/lJqEFsmUwIX//+jLAAAEolwf4gEp/Xk5N53hSrdUPf1PpniAky1AxiaskDtcRU1zfp0JI6tTHzV9mYK1p20ZzIHwxCa0voQLR49bCD3b7Ze3gsw/RE8HrvWfdQCJM7OIt3AAAAJEGeF0UVLCP/AAAX6X0uY0gfxmP0jAATEEjbinywonSn52JBgQAAACMBnjhqR/8AACWxzA02moWgHBThdctFhOh54o9oLv1q8/vdYAAAAExBmj1JqEFsmUwIX//+jLAAAEoQj0UJ4xTc6uAUyp0EQAaR0z4qI1v+t+1N1Fr8HGmBOTIZZWNwEQk5Uyz4gVR00GSK9b7wfEsb0yopAAAAJkGeW0UVLCP/AAAX3+wvU6aZrrpGVlaKd7W0FvKB36qpzq6g8yNuAAAAHAGeenRH/wAAJav4W3gSnWgjiBGeuRoD3QvzKz8AAAAjAZ58akf/AAAlrmAFC0L/3nLyVCrkowM9pb+W7qYt1GMMkGEAAABGQZp/SahBbJlMFEwv//6MsAAAShRIm9XySqFfKcaFXUCURc81nahS3L+OjUQDFEnBDmfVd8+iVUofC63cCWL7uavF0I+65AAAACUBnp5qR/8AACW/Gvo2Alqkc3gYCbw8SUr+/jn58M89gt0fXUgwAAAAbEGag0nhClJlMCF//oywAABMEI8sQawVP1fCgAmYvJ2wO2KHO1t2TSfz0eVVd1KnQ7ZvJ+mazXvvnR3Qy65y0JVUpfzdrZ8Y3Mf/llQR9ckWXk4nRkiPcvbajrBOTqmni5b1mlf0QT1JgstNgQAAAD9BnqFFNEwj/wAAGIl8w2An0yvwAUhnP2udgahpIXxxBivOgwXee7EXGpnUOJB5YEAKwCgnRfcIWEAXSctvX1gAAAApAZ7AdEf/AAAlwz6WpUKHEUzKhzxaC+LH33uV8NNcrDV74bsoUyltrPkAAAAdAZ7Cakf/AAAmrl4zgupdSWcGg5h7Gi0XiWP+vA4AAAA/QZrFSahBaJlMFPC//oywAABMAfGo79fdrCm9N7uYHw8BDH3VSNDbRf4GFb29853BipoYPVyXAxjO+o/MRvRhAAAAJAGe5GpH/wAAJq5eM4F5Q7PNtq2BbjoxxZlQ7wT2NI291XLYCQAAAFJBmulJ4QpSZTAhf/6MsAAATADs2J5/oruW4lhQAcFwWAJLDNGs68INb5lGbu95c+0XkEwO7uHcek26BCQUqCAr32D54SLQeE12SgdSyo1jQjWtAAAAKEGfB0U0TCP/AAAYf+weoxtHC/l0M/lP1tdEmhW13yBIKcziJkMvYEEAAAAkAZ8mdEf/AAAmwxdis50YJpD+NqZJtrPuZ2ob1yjidn+z4Y5QAAAAIwGfKGpH/wAAJq5eM4F5Q7PNtpzAfn9ddAVuuoseuwoqyWfAAAAAK0GbLEmoQWiZTAhf//6MsAAATAHxqO/X3awEkXWj/Xne/J6+Ufmmba20viEAAAAsQZ9KRREsI/8AABiAh0gtfTgAF1M++1AAncsOIU1Cfc+81n1svJBqD92BSPcAAAAqAZ9rakf/AAAmscwNNoDRPhhoDSKloMhi5/qos12GMENCgH+c9149La4QAAAAa0GbcEmoQWyZTAhf//6MsAAATAE9Fo4QZaPgRq4AR6eR/naKaABKXYA+rn11uUl0/1S7IMlRzjF35qBzmbyidKl2mLqk8fEse8lOylfK0M32d7v4dKZVHE6VSCoZErGpTT/81OlJMSS2jWMRAAAAO0GfjkUVLCP/AAAYf+xEpcoWAIYPfuTvLvkWokWusm+1iB2Ej1tnaf1wAZ6WphNulmyH9IpfKLEyzk59AAAAMQGfrXRH/wAAJqnpxxGbk4AF0Ps9iUsQyyR/8J1qfB1s+1mph2X409Y9FLGvT0glZUEAAAAvAZ+vakf/AAAmrl5pNI7eUIAWZmgLdZ7qcdS55GpDFfdsgirTujgkozWHlNgYYOUAAABtQZuxSahBbJlMCGf//p4QAAAcSN620gAHEf2Vv4lqTMGGpwhCSDxJM2B9feJ0zsFYFD5L3DhRAIWMMmx/XvpRrqV3ImyRcO3ScIQk6htKmLi8y58U6lVzPWmzgX4E5vLi8NrGtznykCScDJiAEAAAAENBm9VJ4QpSZTAhn/6eEAAATUPNcK80RrlG8w9lfXw8JfDKkJ8aIdDWUAFMczUJ0FN9Ol1GjG+DAF45eloSy0lsMQwDAAAAKEGf80U0TCP/AAAZKX0uZcx2rOxV8lkf/PP9vz/PMyMA2MgT3L2e4WAAAAAlAZ4SdEf/AAAmwJrMDyjP+2kOfwuXf8/zT0X/FG4PhcjOwKK4IAAAACoBnhRqR/8AACfJgHDci6ka422AAWxqbqvm+wGCqputiHbObcaESIrM/cEAAABFQZoZSahBaJlMCF///oywAABOEJzLEGgGaABVZgSbszDq58UI3B8ZSoDf645UAR/Y2kwq+ywgpqvd8ix9U8cjb9ONmaCgAAAAM0GeN0URLCP/AAAZKJtP8rOd9CgvwF64QFNik+A9CfCYxgPYrv6pztjxwls58Ac9jJg2gQAAACcBnlZ0R/8AACfbVyYoVsmrsk+rvOJfieuo/f/L6ozl28KKrInTOXEAAAAsAZ5Yakf/AAAnxBnwbzLyBk7cUzy75gJl1WnN3LrmUmgBLKfb5QRDqVUFKxYAAAA7QZpdSahBbJlMCF///oywAABOAT4kQBT8G+IL9Z2FlgITZo5B/svciD/r4zAm+QhGjD2nTDDuAo2c/E0AAABCQZ57RRUsI/8AABkQMbQQT6QKWPwfAWnu3XO7D9+yXgAoccRj3UDj/7L32Vszj5oLE8nXBSrPhWd5zJrmVN5eBnLgAAAAHwGemnRH/wAAJ9tXJihWyauyT7OgZi3PnynXmVlnxp0AAAApAZ6cakf/AAAn16iFk35sxcOolSCgBLDM7pWs3Inh9j37/rwaQxDm1i0AAABQQZqASahBbJlMCF///oywAABOEI9FBv9cm7MgA2lueHAhkJFNwjY8stvHq1OQgQkvkiMFtLhxaEjsVHz8LSvLmOE64qeh20bFBeZZprlg1IAAAAAtQZ6+RRUsI/8AABkpg822zFwbrdb5xAR1Y7zWsLpUcEXhg+QaErXZYP0ID2y4AAAAKQGe32pH/wAAJ8VUEDR4RM3M25De5KuiCilQAkrg4O0qE4NicDsEYfFhAAAAVEGaxEmoQWyZTAhX//44QAABNuiarTsjgOgAje9SPewfYvXcmSGt5pl7LaoGA6EiZuAEaoSmetWXnA+Xt7r+/EylmusAOLXNNoJ0H64lLXbFMYf/gAAAAC5BnuJFFSwj/wAAGR/snxw81VxGTUyTaOXtQjR6RLyqSbRtedwDMCWPezxREjdtAAAAJAGfAXRH/wAAJ9tX+00s9s3GajMXAUs9TWYTz23sSQDOiaCPegAAACcBnwNqR/8AACfFVjjP/T7JOMdVEFtttMO6MBzqDGwwgUMdXLt6ssEAAABDQZsISahBbJlMCEf//eEAAASzSDLf6f7O1FjIAAP20WURlSlil9mLi+fiwN68bcEQ9x3jz6HP9wvc6nZrCi64hOZp1QAAAEJBnyZFFSwj/wAAGb/sHqMbRwv5eigAHHTtKF4ro7avSsSiyl4uvCXLjZ5oWU5nfTKdAipmqmfxT6WUHSPFJQy/jj0AAAAkAZ9FdEf/AAAo+1cmJ5uqqikEipgaQTieMJJhAAm0ewvhzIz5AAAAJwGfR2pH/wAAKOVSw9IW1h26pEcgLSdmyg3kKt+yoVlHGaXzfzdlgAAAAClBm0lJqEFsmUwI//yEAAASS6br5LIWCtaHE99tu/BvoW7baq9vokAEvAAADGNtb292AAAAbG12aGQAAAAAAAAAAAAAAAAAAAPoAAAPyAABAAABAAAAAAAAAAAAAAAAAQAAAAAAAAAAAAAAAAAAAAEAAAAAAAAAAAAAAAAAAEAAAAAAAAAAAAAAAAAAAAAAAAAAAAAAAAAAAAAAAAACAAALjXRyYWsAAABcdGtoZAAAAAMAAAAAAAAAAAAAAAEAAAAAAAAPyAAAAAAAAAAAAAAAAAAAAAAAAQAAAAAAAAAAAAAAAAAAAAEAAAAAAAAAAAAAAAAAAEAAAAACWAAAAZAAAAAAACRlZHRzAAAAHGVsc3QAAAAAAAAAAQAAD8gAAAIAAAEAAAAACwVtZGlhAAAAIG1kaGQAAAAAAAAAAAAAAAAAADIAAADKAFXEAAAAAAAtaGRscgAAAAAAAAAAdmlkZQAAAAAAAAAAAAAAAFZpZGVvSGFuZGxlcgAAAAqwbWluZgAAABR2bWhkAAAAAQAAAAAAAAAAAAAAJGRpbmYAAAAcZHJlZgAAAAAAAAABAAAADHVybCAAAAABAAAKcHN0YmwAAACwc3RzZAAAAAAAAAABAAAAoGF2YzEAAAAAAAAAAQAAAAAAAAAAAAAAAAAAAAACWAGQAEgAAABIAAAAAAAAAAEAAAAAAAAAAAAAAAAAAAAAAAAAAAAAAAAAAAAAAAAAAAAY//8AAAA2YXZjQwFkAB//4QAZZ2QAH6zZQJgz5eEAAAMAAQAAAwBkDxgxlgEABmjr48siwP34+AAAAAAUYnRydAAAAAAAAF9VAABfVQAAABhzdHRzAAAAAAAAAAEAAADKAAABAAAAABRzdHNzAAAAAAAAAAEAAAABAAAGIGN0dHMAAAAAAAAAwgAAAAIAAAIAAAAAAQAAAwAAAAABAAABAAAAAAEAAAUAAAAAAQAAAgAAAAABAAAAAAAAAAEAAAEAAAAAAQAABQAAAAABAAACAAAAAAEAAAAAAAAAAQAAAQAAAAABAAAFAAAAAAEAAAIAAAAAAQAAAAAAAAABAAABAAAAAAEAAAMAAAAAAQAAAQAAAAABAAAFAAAAAAEAAAIAAAAAAQAAAAAAAAABAAABAAAAAAEAAAUAAAAAAQAAAgAAAAABAAAAAAAAAAEAAAEAAAAAAQAABQAAAAABAAACAAAAAAEAAAAAAAAAAQAAAQAAAAABAAAFAAAAAAEAAAIAAAAAAQAAAAAAAAABAAABAAAAAAEAAAUAAAAAAQAAAgAAAAABAAAAAAAAAAEAAAEAAAAAAQAABQAAAAABAAACAAAAAAEAAAAAAAAAAQAAAQAAAAABAAAFAAAAAAEAAAIAAAAAAQAAAAAAAAABAAABAAAAAAEAAAMAAAAAAQAAAQAAAAABAAAFAAAAAAEAAAIAAAAAAQAAAAAAAAABAAABAAAAAAEAAAUAAAAAAQAAAgAAAAABAAAAAAAAAAEAAAEAAAAAAQAABQAAAAABAAACAAAAAAEAAAAAAAAAAQAAAQAAAAABAAAFAAAAAAEAAAIAAAAAAQAAAAAAAAABAAABAAAAAAEAAAUAAAAAAQAAAgAAAAABAAAAAAAAAAEAAAEAAAAAAQAABQAAAAABAAACAAAAAAEAAAAAAAAAAQAAAQAAAAABAAAFAAAAAAEAAAIAAAAAAQAAAAAAAAABAAABAAAAAAEAAAUAAAAAAQAAAgAAAAABAAAAAAAAAAEAAAEAAAAAAQAABQAAAAABAAACAAAAAAEAAAAAAAAAAQAAAQAAAAABAAAFAAAAAAEAAAIAAAAAAQAAAAAAAAABAAABAAAAAAEAAAUAAAAAAQAAAgAAAAABAAAAAAAAAAEAAAEAAAAAAQAABQAAAAABAAACAAAAAAEAAAAAAAAAAQAAAQAAAAABAAAFAAAAAAEAAAIAAAAAAQAAAAAAAAABAAABAAAAAAEAAAQAAAAAAgAAAQAAAAABAAAFAAAAAAEAAAIAAAAAAQAAAAAAAAABAAABAAAAAAEAAAQAAAAAAgAAAQAAAAABAAACAAAAAAEAAAUAAAAAAQAAAgAAAAABAAAAAAAAAAEAAAEAAAAAAQAABQAAAAABAAACAAAAAAEAAAAAAAAAAQAAAQAAAAABAAAFAAAAAAEAAAIAAAAAAQAAAAAAAAABAAABAAAAAAEAAAUAAAAAAQAAAgAAAAABAAAAAAAAAAEAAAEAAAAAAQAABQAAAAABAAACAAAAAAEAAAAAAAAAAQAAAQAAAAABAAAEAAAAAAIAAAEAAAAAAQAAAwAAAAABAAABAAAAAAEAAAQAAAAAAgAAAQAAAAABAAAFAAAAAAEAAAIAAAAAAQAAAAAAAAABAAABAAAAAAEAAAUAAAAAAQAAAgAAAAABAAAAAAAAAAEAAAEAAAAAAQAABQAAAAABAAACAAAAAAEAAAAAAAAAAQAAAQAAAAABAAAEAAAAAAIAAAEAAAAAAQAABQAAAAABAAACAAAAAAEAAAAAAAAAAQAAAQAAAAABAAADAAAAAAEAAAEAAAAAAQAABQAAAAABAAACAAAAAAEAAAAAAAAAAQAAAQAAAAABAAADAAAAAAEAAAEAAAAAAQAABQAAAAABAAACAAAAAAEAAAAAAAAAAQAAAQAAAAABAAAEAAAAAAIAAAEAAAAAAQAABQAAAAABAAACAAAAAAEAAAAAAAAAAQAAAQAAAAABAAACAAAAAAEAAAUAAAAAAQAAAgAAAAABAAAAAAAAAAEAAAEAAAAAAQAABQAAAAABAAACAAAAAAEAAAAAAAAAAQAAAQAAAAABAAAFAAAAAAEAAAIAAAAAAQAAAAAAAAABAAABAAAAAAEAAAQAAAAAAgAAAQAAAAABAAAFAAAAAAEAAAIAAAAAAQAAAAAAAAABAAABAAAAAAEAAAUAAAAAAQAAAgAAAAABAAAAAAAAAAEAAAEAAAAAAQAAAgAAAAAcc3RzYwAAAAAAAAABAAAAAQAAAMoAAAABAAADPHN0c3oAAAAAAAAAAAAAAMoAAAS0AAAAxwAAAEoAAAA2AAAAbQAAADkAAAApAAAAJQAAAI4AAAA/AAAAIAAAACEAAAAsAAAAQgAAABsAAAAvAAAAdwAAADMAAABcAAAAIwAAACcAAAAYAAAAhgAAADYAAAA5AAAANAAAAJMAAAAlAAAALQAAABgAAACBAAAAJwAAABcAAAAiAAAAJwAAAB0AAAAYAAAAGAAAAEsAAAA1AAAAHwAAACoAAABlAAAAJQAAACIAAAAYAAAARAAAADAAAABqAAAASAAAACEAAAAoAAAATQAAADEAAAAfAAAAGgAAAE8AAAApAAAAJgAAABUAAAA7AAAAIQAAACUAAAASAAAAOQAAADYAAAAlAAAAIQAAAHIAAAAmAAAAHQAAABsAAABzAAAAMwAAACwAAAAsAAAAngAAACsAAAAgAAAAKwAAAEkAAAAnAAAAEgAAAD0AAACPAAAAOQAAABsAAAA1AAAAUQAAACgAAAAmAAAAGAAAAFYAAAAlAAAAIAAAABIAAABFAAAAKwAAABkAAAAeAAAAVgAAACcAAAAmAAAANQAAACUAAAAXAAAAHQAAADcAAAAdAAAAEgAAAGkAAABoAAAAIwAAAB4AAAAWAAAAewAAADkAAAAoAAAAHgAAAGAAAAAiAAAALwAAABcAAABRAAAAJAAAADEAAAAUAAAAZgAAAEUAAAAgAAAAIgAAAEsAAABBAAAAKwAAAE4AAAA1AAAAbAAAAC4AAAAzAAAAZwAAACYAAAAUAAAAHwAAAJUAAAA7AAAAGwAAACwAAABBAAAAQQAAAB0AAAAkAAAAaAAAACgAAAAnAAAAUAAAACoAAAAgAAAAJwAAAEoAAAApAAAAcAAAAEMAAAAtAAAAIQAAAEMAAAAoAAAAVgAAACwAAAAoAAAAJwAAAC8AAAAwAAAALgAAAG8AAAA/AAAANQAAADMAAABxAAAARwAAACwAAAApAAAALgAAAEkAAAA3AAAAKwAAADAAAAA/AAAARgAAACMAAAAtAAAAVAAAADEAAAAtAAAAWAAAADIAAAAoAAAAKwAAAEcAAABGAAAAKAAAACsAAAAtAAAAFHN0Y28AAAAAAAAAAQAAADAAAABidWR0YQAAAFptZXRhAAAAAAAAACFoZGxyAAAAAAAAAABtZGlyYXBwbAAAAAAAAAAAAAAAAC1pbHN0AAAAJal0b28AAAAdZGF0YQAAAAEAAAAATGF2ZjU4Ljc2LjEwMA==\" type=\"video/mp4\">\n",
              "</video>\n"
            ]
          },
          "metadata": {},
          "execution_count": 83
        }
      ],
      "source": [
        "#@title Визуализация {display-mode: \"form\"}\n",
        "#@markdown Выберите номер эпизода, менее или равного 1000, и **run this cell**.\n",
        "\n",
        "episode_number = 1000 #@param {type:\"number\"}\n",
        "\n",
        "assert (episode_number % 100) == 0, \"Episode number must be a multiple of 100 since we only record every 100th episode.\"\n",
        "assert episode_number < 1001, \"Episode number must be less than or equal to 1000\"\n",
        "\n",
        "eval_episode_number = int(episode_number / 100 * 8)\n",
        "video_path = f\"./video/reinforce/eval/rl-video-episode-{eval_episode_number}.mp4\"\n",
        "\n",
        "mp4 = open(video_path,'rb').read()\n",
        "data_url = \"data:video/mp4;base64,\" + b64encode(mp4).decode()\n",
        "HTML(\"\"\"\n",
        "<video width=400 controls>\n",
        "      <source src=\"%s\" type=\"video/mp4\">\n",
        "</video>\n",
        "\"\"\" % data_url)"
      ]
    },
    {
      "cell_type": "markdown",
      "metadata": {
        "id": "D_HHzFTOc-Qr"
      },
      "source": [
        "## 4. Q-Learning\n",
        "Другим распространенным подходом к поиску оптимальной политики в среде с использованием RL является Q-обучение."
      ]
    },
    {
      "cell_type": "markdown",
      "metadata": {
        "id": "lF1nOZrUSzhE"
      },
      "source": [
        "### Функция значения состояния-действия\n",
        "В Q-обучении агент изучает функцию, которая аппроксимирует **значение** пар состояние-действие. Под *значением* мы подразумеваем отдачу, которую вы ожидаете получить, если начнете в определенном состоянии $s_t$, выполните определенное действие $a_t$, а затем будете действовать в соответствии с определенной политикой $\\pi$ навсегда. Функция значения состояния-действия политики $\\pi$ задается как\n",
        "\n",
        "$Q_\\pi(s,a)=\\mathrm{E}_{\\tau\\sim\\pi}\\left[R(\\tau) \\mid s_0=s,\\ a_t=a\\right]$.\n",
        "\n",
        "Мы говорим, что функция значения $Q_\\pi(s,a)$ является **оптимальной** функцией значения, если политика $\\pi$ является оптимальной политикой. Обозначим функцию оптимального значения следующим образом:\n",
        "\n",
        "$Q_\\ast(s,a)=\\max \\limits_\\pi \\ \\mathrm{E}_{\\tau\\sim\\pi}\\left[R(\\tau) \\mid s_0=s,\\ a_0=a\\right]$\n",
        "\n",
        "Существует важная связь между оптимальным действием $a_\\ast$ в состоянии $s$ и оптимальной функцией значения состояния-действия $Q_\\ast$. А именно, оптимальное действие $a_\\ast$ в состоянии $s$ равно действию, которое максимизирует оптимальную функцию значения состояния-действия. Эта связь естественным образом индуцирует оптимальную политику:\n",
        "\n",
        "$\\pi_\\ast(s)=\\arg \\max \\limits_a\\ Q_\\ast(s, a)$"
      ]
    },
    {
      "cell_type": "markdown",
      "metadata": {
        "id": "H2x2tqvZSihz"
      },
      "source": [
        "### Greedy action selection (Жадный выбор действия)\n",
        "\n",
        "**Упражнение 10:** Давайте реализуем функцию, которая, учитывая вектор Q-значений, возвращает действие с наибольшим Q-значением (т. е. жадное действие).\n",
        "\n",
        "**Useful methods:**\n",
        "*   `jax.numpy.argmax` ([docs](https://jax.readthedocs.io/en/latest/_autosummary/jax.numpy.argmax.html))"
      ]
    },
    {
      "cell_type": "code",
      "execution_count": 94,
      "metadata": {
        "id": "Nn9P1YdzTIDU"
      },
      "outputs": [],
      "source": [
        "# Implement a function takes q-values as input and returns the greedy_action\n",
        "def select_greedy_action(q_values):\n",
        "  \"\"\"\n",
        "  Выбирает жадное действие на основе заданных значений Q-функции.\n",
        "\n",
        "  Args:\n",
        "      q_values (list или numpy array): Список или массив значений Q-функции.\n",
        "\n",
        "  Returns:\n",
        "      int: Индекс действия с наибольшим значением Q-функции.\n",
        "  \"\"\"\n",
        "  # Выбор индекса максимального значения Q-функции\n",
        "  action = jax.numpy.argmax(q_values)\n",
        "\n",
        "  return action"
      ]
    },
    {
      "cell_type": "code",
      "execution_count": 95,
      "metadata": {
        "id": "ZBzLr_G7QKXR",
        "colab": {
          "base_uri": "https://localhost:8080/"
        },
        "outputId": "71c451f3-20ad-4ec3-f3b6-227188e5b77b"
      },
      "outputs": [
        {
          "output_type": "stream",
          "name": "stdout",
          "text": [
            "Looks good.\n"
          ]
        }
      ],
      "source": [
        "# @title Проверка упр 10 (run me) {display-mode: \"form\"}\n",
        "\n",
        "try:\n",
        "  q_values = jnp.array([1,1,3,4])\n",
        "  action = select_greedy_action(q_values)\n",
        "\n",
        "  if action != 3:\n",
        "    print(\"Incorrect answer, your greedy action selector looks wrong\")\n",
        "  else:\n",
        "    print(\"Looks good.\")\n",
        "except Exception as e:\n",
        "  print(\"An Error Occured: {}\".format(e))\n"
      ]
    },
    {
      "cell_type": "markdown",
      "metadata": {
        "id": "PFQUlqZ4ZyLp"
      },
      "source": [
        "### Q-Network\n",
        "В отличие от подхода с градиентом политики из предыдущего раздела, в Q-обучении и других методах RL на основе значений нам не нужна параметризация для политики, вместо этого мы параметризуем Q-функцию с помощью нейронной сети $Q_\\theta$. Мы получаем политику из Q-сети, всегда выбирая действие с *наибольшим* значением:\n",
        "\n",
        "$\\hat{\\pi}_\\theta(s)=\\arg \\max \\limits_a\\ Q_{\\theta}(s, a)$\n",
        "\n",
        "Как и ранее, мы будем использовать хайку для создания нейронной сети для аппроксимации этой Q-функции. Сеть будет принимать наблюдение в качестве входных данных, а затем выводить Q-значение для каждого из доступных действий. Таким образом, в случае CartPole выход сети будет иметь размер $2$."
      ]
    },
    {
      "cell_type": "code",
      "execution_count": 96,
      "metadata": {
        "id": "9wU1soJYZyLp"
      },
      "outputs": [],
      "source": [
        "def build_network(num_actions: int, layers=[20, 20]) -> hk.Transformed:\n",
        "  \"\"\"Factory for a simple MLP network for approximating Q-values.\"\"\"\n",
        "\n",
        "  def q_network(obs):\n",
        "    network = hk.Sequential(\n",
        "        [hk.Flatten(),\n",
        "         hk.nets.MLP(layers + [num_actions])])\n",
        "    return network(obs)\n",
        "\n",
        "  return hk.without_apply_rng(hk.transform(q_network))"
      ]
    },
    {
      "cell_type": "markdown",
      "metadata": {
        "id": "sUwG-4qTS1zx"
      },
      "source": [
        "Давайте инициализируем нашу Q-сеть и получим начальные параметры."
      ]
    },
    {
      "cell_type": "code",
      "execution_count": 97,
      "metadata": {
        "id": "1uvq5n2cS9lu",
        "colab": {
          "base_uri": "https://localhost:8080/"
        },
        "outputId": "92e3e1b1-9cf0-4bcf-802a-00afafecfa49"
      },
      "outputs": [
        {
          "output_type": "stream",
          "name": "stdout",
          "text": [
            "Q-Learning params: dict_keys(['mlp/~/linear_0', 'mlp/~/linear_1', 'mlp/~/linear_2'])\n"
          ]
        }
      ],
      "source": [
        "# Initialise Q-network\n",
        "Q_NETWORK = build_network(num_actions=num_actions, layers=[20, 20]) # two actions\n",
        "\n",
        "dummy_obs = jnp.zeros((1,*obs_shape), jnp.float32) # a dummy observation like the one in CartPole\n",
        "\n",
        "random_key = jax.random.PRNGKey(42) # random key\n",
        "Q_NETWORK_PARAMS = Q_NETWORK.init(random_key, dummy_obs) # Get initial params\n",
        "\n",
        "print(\"Q-Learning params:\", Q_NETWORK_PARAMS.keys())"
      ]
    },
    {
      "cell_type": "markdown",
      "metadata": {
        "id": "iqCUeZfhEfyP"
      },
      "source": [
        "Прежде чем мы реализуем функцию потерь, необходимую для обучения нашей Q-сети, давайте сначала обсудим интуицию, стоящую за ней."
      ]
    },
    {
      "cell_type": "markdown",
      "metadata": {
        "id": "vbLig3uSZyLp"
      },
      "source": [
        "### The Bellman Equations (Уравнения Беллмана)\n",
        "Функция значения может быть записана рекурсивно как:\n",
        "\n",
        "$Q_{\\pi}(s, a) =\\underset{s^{\\prime} \\sim P}{\\mathrm{E}}\\left[r(s, a)+ \\underset{a^{\\prime} \\sim \\pi}{\\mathrm{E}}\\left[Q_{\\pi}\\left(s^{\\prime}, a^{\\prime}\\right)\\right]\\right]$,\n",
        "\n",
        "где $s' \\sim P$ — это сокращение для обозначения того, что следующее состояние $s'$ выбирается из функции перехода среды $P(s'\\mid s,a)$. Интуитивно это уравнение говорит, что ценность действия $a$, которое вы предприняли в состоянии $s$, равна вознаграждению $r$, которое вы ожидаете получить, плюс ценность, которую вы ожидаете получить в следующем состоянии $s`$, в котором вы окажетесь, при условии, что вы выберете свое следующее действие $a`$ с политикой $\\pi$. Уравнение Беллмана для оптимальной функции ценности выглядит так:\n",
        "\n",
        "$Q_{*}(s, a) =\\underset{s^{\\prime} \\sim P}{\\mathrm{E}}\\left[r(s, a)+\\ \\underset{a^{\\prime}}{\\max}\\ Q_{*}(s^{\\prime}, a^{\\prime})\\right]$\n",
        "\n",
        "Обратите внимание, что вместо выбора вашего следующего действия $a`$ с политикой $\\pi$ мы выбираем действие с наибольшим значением Q.\n",
        "\n",
        "Более подробное обсуждение уравнений Беллмана можно найти на сайте [OpenAI Spinning Up](https://spinningup.openai.com/en/latest/spinningup/rl_intro.html)."
      ]
    },
    {
      "cell_type": "markdown",
      "metadata": {
        "id": "DsOJi5G8ZyLp"
      },
      "source": [
        "### The Bellman Backup (Резервное копирование Беллмана)\n",
        "\n",
        "Чтобы научиться аппроксимировать оптимальную функцию Q-значения, мы можем использовать правую часть уравнения Беллмана в качестве правила обновления. Другими словами, предположим, что у нас есть Q-сеть $Q_\\theta$, аппроксимированная с использованием параметров $\\theta$, тогда мы можем итеративно обновлять параметры таким образом, что\n",
        "\n",
        "$Q_\\theta(s,a)\\leftarrow r(s, a) + \\underset{a'}{\\max}\\ Q_\\theta(s', a')$.\n",
        "\n",
        "Интуитивно это означает, что аппроксимация Q-значения действия $a$ в состоянии $s$ должна быть обновлена ​​таким образом, чтобы она была ближе к равной вознаграждению, полученному от среды $r(s, a)$, плюс значение наилучшего возможного действия в следующем состоянии $s'$. Мы можем выполнить эту оптимизацию, минимизируя разницу между левой и правой частью относительно параметров $\\theta$, используя градиентный спуск. Мы можем измерить разницу между двумя значениями, используя [квадратичную ошибку](https://en.wikipedia.org/wiki/Mean_squared_error#Loss_function).\n",
        "\n",
        "**Упражнение 11:** Реализуйте функцию квадратичной ошибки.\n",
        "\n",
        "**Полезные функции**\n",
        "* `jax.numpy.square` ([docs](https://jax.readthedocs.io/en/latest/_autosummary/jax.numpy.square.html))"
      ]
    },
    {
      "cell_type": "code",
      "execution_count": 100,
      "metadata": {
        "id": "PTto__ohZyLp"
      },
      "outputs": [],
      "source": [
        "def compute_squared_error(pred, target):\n",
        "  \"\"\"\n",
        "    Вычисляет квадратичную ошибку между прогнозируемыми и целевыми значениями.\n",
        "\n",
        "    Args:\n",
        "        pred (array-like): Прогнозируемые значения.\n",
        "        target (array-like): Целевые значения.\n",
        "\n",
        "    Returns:\n",
        "        array-like: Квадрат ошибки для каждого элемента.\n",
        "  \"\"\"\n",
        "  squared_error = jax.numpy.square(pred - target)\n",
        "\n",
        "\n",
        "  return squared_error"
      ]
    },
    {
      "cell_type": "code",
      "execution_count": 101,
      "metadata": {
        "id": "wGhX8XTFVPVU",
        "colab": {
          "base_uri": "https://localhost:8080/"
        },
        "outputId": "eda5da00-7e40-4b97-d30d-acb50239b6fb"
      },
      "outputs": [
        {
          "output_type": "stream",
          "name": "stdout",
          "text": [
            "Looks good.\n"
          ]
        }
      ],
      "source": [
        "#@title Проверка упр 11 {display-mode: \"form\"}\n",
        "\n",
        "try:\n",
        "  result = compute_squared_error(1, 4)\n",
        "\n",
        "  if result != 9:\n",
        "    print(\"Your implementation looks wrong.\")\n",
        "  else:\n",
        "    print(\"Looks good.\")\n",
        "except Exception as e:\n",
        "  print(\"An Error Occured: {}\".format(e))"
      ]
    },
    {
      "cell_type": "markdown",
      "metadata": {
        "id": "ycpZVkgdZyLp"
      },
      "source": [
        "**Упражнение 12:** Реализуйте функцию, которая вычисляет **цель Беллмана** (правая часть уравнения Беллмана). Если эпизод находится на последнем временном шаге (т. е. done==1.0), то цель Беллмана должна быть равна награде, без дополнительного значения в конце.\n",
        "\n",
        "**Полезные функции**\n",
        "* `jax.numpy.max` ([docs](https://jax.readthedocs.io/en/latest/_autosummary/jax.numpy.max.html))"
      ]
    },
    {
      "cell_type": "code",
      "execution_count": 126,
      "metadata": {
        "id": "961_OllWZyLp"
      },
      "outputs": [],
      "source": [
        "# Bellman target\n",
        "def compute_bellman_target(reward, done, next_q_values):\n",
        "  \"\"\"\n",
        "    Вычисляет целевую функцию Беллмана.\n",
        "\n",
        "    Args:\n",
        "        reward (float): Скалярная награда.\n",
        "        done (float): 1.0, если эпизод завершен, иначе 0.0.\n",
        "        next_q_values (array-like): Вектор Q-значений для следующего состояния.\n",
        "\n",
        "    Returns:\n",
        "        float: Целевое значение Беллмана.\n",
        "  \"\"\"\n",
        "\n",
        "  bellman_target = reward + (1.0 - done) * jax.numpy.max(next_q_values)\n",
        "\n",
        "  return bellman_target"
      ]
    },
    {
      "cell_type": "code",
      "execution_count": 127,
      "metadata": {
        "id": "E5RAhegOWAkC",
        "colab": {
          "base_uri": "https://localhost:8080/"
        },
        "outputId": "036f4d2e-3b9d-481a-8646-cfd099046f09"
      },
      "outputs": [
        {
          "output_type": "stream",
          "name": "stdout",
          "text": [
            "Looks good.\n"
          ]
        }
      ],
      "source": [
        "#@title Проверка упр 12 {display-mode: \"form\"}\n",
        "\n",
        "try:\n",
        "  # not done\n",
        "  result1 = compute_bellman_target(1, 0.0, np.array([3,2], \"float32\"))\n",
        "\n",
        "  # done\n",
        "  result2 = compute_bellman_target(1, 1.0, np.array([3,2], \"float32\"))\n",
        "\n",
        "  if result1 != 4 or result2 != 1:\n",
        "    print(\"Your implementation looks wrong.\")\n",
        "  else:\n",
        "    print(\"Looks good.\")\n",
        "except Exception as e:\n",
        "  print(\"An Error Occured: {}\".format(e))"
      ]
    },
    {
      "cell_type": "markdown",
      "metadata": {
        "id": "8sIjrHSJZyLq"
      },
      "source": [
        "Теперь мы можем объединить эти две функции, чтобы вычислить потерю для Q-обучения. Потери Q-обучения равны квадрату разницы между прогнозируемым значением Q действия и его соответствующей целью Беллмана.\n",
        "\n",
        "**Упражнение 13:** Реализуйте функцию потери Q-обучения."
      ]
    },
    {
      "cell_type": "code",
      "execution_count": 104,
      "metadata": {
        "id": "LJY_kpFcZyLq"
      },
      "outputs": [],
      "source": [
        "def q_learning_loss(q_values, action, reward, done, next_q_values):\n",
        "    \"\"\"\n",
        "    Вычисление потерь Q-Learning.\n",
        "\n",
        "    Args:\n",
        "        q_values: вектор Q-значений для текущего состояния.\n",
        "        action: индекс выбранного действия.\n",
        "        reward: скалярное значение награды.\n",
        "        done: скаляр, указывающий на завершённость перехода (1.0 или 0.0).\n",
        "        next_q_values: вектор Q-значений для следующего состояния.\n",
        "\n",
        "    Returns:\n",
        "        Потеря (squared error) между Q-значением выбранного действия и целевым значением Беллмана.\n",
        "    \"\"\"\n",
        "    # Q-значение выбранного действия\n",
        "    chosen_action_q_value = q_values[action]\n",
        "\n",
        "    # Целевое значение Беллмана\n",
        "    bellman_target = compute_bellman_target(reward, done, next_q_values)\n",
        "\n",
        "    # Квадрат ошибки\n",
        "    squared_error = jax.numpy.square(chosen_action_q_value - bellman_target)\n",
        "\n",
        "    return squared_error"
      ]
    },
    {
      "cell_type": "code",
      "execution_count": 105,
      "metadata": {
        "id": "1aZRn1qaWx2M",
        "colab": {
          "base_uri": "https://localhost:8080/"
        },
        "outputId": "def8282f-f668-4385-f53a-789f8a34a210"
      },
      "outputs": [
        {
          "output_type": "stream",
          "name": "stdout",
          "text": [
            "Looks good.\n"
          ]
        }
      ],
      "source": [
        "#@title Проверка упр 13 {display-mode: \"form\"}\n",
        "\n",
        "try:\n",
        "  result = q_learning_loss(np.array([3,2], \"float32\"), 1, 2, 0.0, np.array([3,2], \"float32\"))\n",
        "\n",
        "  if result != 9.0:\n",
        "    print(\"Your implementation looks wrong.\")\n",
        "  else:\n",
        "    print(\"Looks good.\")\n",
        "except Exception as e:\n",
        "  print(\"An Error Occured: {}\".format(e))"
      ]
    },
    {
      "cell_type": "markdown",
      "metadata": {
        "id": "b4YnSUfJZyLq"
      },
      "source": [
        "### Target Q-network (Целевая Q-сеть)\n",
        "Обратите внимание: когда мы вычисляем цель Беллмана, мы используем нашу Q-сеть $Q_\\theta$ для вычисления значения для следующего состояния $s_t$. По сути, мы используем наше последнее приближение Q-функции для вычисления цели нашего следующего приближения. Использование приближения для вычисления цели для вашего следующего приближения называется самозагрузкой. К сожалению, если мы наивно делаем такую ​​самозагрузку, это может сделать обучение нейронной сети очень нестабильным. Чтобы смягчить это, мы можем вместо этого использовать другой набор параметров $\\hat{\\theta}$ для вычисления значений в состоянии $s_{t+1}$. Мы будем сохранять параметры $\\hat{\\theta}$ фиксированными и только периодически обновлять их, чтобы они были равны последним онлайн-параметрам $\\theta$ каждые пару шагов обучения *(скажем, 100)*. Это позволяет сохранять фиксированные цели Беллмана для пары шагов обучения, чтобы помочь снизить нестабильность из-за самозагрузки.\n",
        "\n",
        "Нам нужно будет отслеживать последние (онлайн) параметры, а также параметры целевых сетей. Давайте создадим `NamedTuple` для хранения этих двух значений. Нам также нужно будет отслеживать количество шагов обучения, которые мы сделали, чтобы знать, когда обновлять целевую сеть. Давайте сохраним `count` шагов обучения в `learn_state`."
      ]
    },
    {
      "cell_type": "code",
      "execution_count": 106,
      "metadata": {
        "id": "DvZqUKmq6L7k"
      },
      "outputs": [],
      "source": [
        "# Store online and target parameters\n",
        "QLearnParams = collections.namedtuple(\"Params\", [\"online\", \"target\"])\n",
        "\n",
        "# Q-learn-state\n",
        "QLearnState = collections.namedtuple(\"LearnerState\", [\"count\", \"optim_state\"])"
      ]
    },
    {
      "cell_type": "markdown",
      "metadata": {
        "id": "CJWH2_kNZsau"
      },
      "source": [
        "Мы снова будем использовать Optax для оптимизации нашей нейронной сети в JAX. Мы сохраняем состояние оптимизатора в `learn_state` выше. Давайте теперь создадим экземпляр оптимизатора и добавим начальные параметры Q-сети в объект `QLearnParams`."
      ]
    },
    {
      "cell_type": "code",
      "execution_count": 107,
      "metadata": {
        "id": "HwqKTN6BaAXE"
      },
      "outputs": [],
      "source": [
        "# Initialise Q-network optimizer\n",
        "Q_LEARN_OPTIMIZER = optax.adam(3e-4) # learning rate\n",
        "\n",
        "Q_LEARN_OPTIM_STATE = Q_LEARN_OPTIMIZER.init(Q_NETWORK_PARAMS) # initial optim state\n",
        "\n",
        "# Create Learn State\n",
        "Q_LEARNING_LEARN_STATE = QLearnState(0, Q_LEARN_OPTIM_STATE) # count set to zero initially\n",
        "\n",
        "# Add initial Q-network weights to QLearnParams object\n",
        "Q_LEARNING_PARAMS = QLearnParams(online=Q_NETWORK_PARAMS, target=Q_NETWORK_PARAMS) # target equal to online"
      ]
    },
    {
      "cell_type": "markdown",
      "metadata": {
        "id": "xj89M8LgZlFe"
      },
      "source": [
        "Теперь мы можем реализовать простую функцию, которая обновляет параметры целевых сетей, чтобы они соответствовали последним онлайн-параметрам каждые 100 шагов обучения."
      ]
    },
    {
      "cell_type": "code",
      "execution_count": 108,
      "metadata": {
        "id": "SKrg_3rO6cCL"
      },
      "outputs": [],
      "source": [
        "def update_target_params(learn_state, online_weights, target_weights):\n",
        "  \"\"\"A function to update target params every 100 training steps\"\"\"\n",
        "\n",
        "  target = jax.lax.cond(\n",
        "      jax.numpy.mod(learn_state.count, 100) == 0,\n",
        "      lambda x, y: x,\n",
        "      lambda x, y: y,\n",
        "      online_weights,\n",
        "      target_weights\n",
        "  )\n",
        "\n",
        "  params = QLearnParams(online_weights, target)\n",
        "\n",
        "  return params"
      ]
    },
    {
      "cell_type": "markdown",
      "metadata": {
        "id": "KoiaYSo9ZyLq"
      },
      "source": [
        "### Q-learning loss (Функция потери Q-обучения)\n",
        "Теперь у нас есть все необходимое для реализации функции `q_learn`, которая принимает некоторую партию переходов и выполняет шаг Q-обучения для обновления параметров сети. Но сначала мы используем `jax.vmap` для изменения функции `q_learning_loss` так, чтобы она принимала партии переходов. Кроме того, мы вычислим Q-значения, передавая наблюдения через `Q_NETWORK`, и целевые Q-значения, используя целевые параметры `Q_NETWORK`."
      ]
    },
    {
      "cell_type": "code",
      "execution_count": 109,
      "metadata": {
        "id": "hnrsGppWZyLq"
      },
      "outputs": [],
      "source": [
        "def batched_q_learning_loss(online_params, target_params, obs, actions, rewards, next_obs, dones):\n",
        "    q_values = Q_NETWORK.apply(online_params, obs) # use the online parameters\n",
        "    next_q_values = Q_NETWORK.apply(target_params, next_obs) # use the target parameters\n",
        "    squared_error = jax.vmap(q_learning_loss)(q_values, actions, rewards, dones, next_q_values) # vmap q_learning_loss\n",
        "    mean_squared_error = jnp.mean(squared_error) # mean squared error over batch\n",
        "    return mean_squared_error"
      ]
    },
    {
      "cell_type": "markdown",
      "metadata": {
        "id": "CU8vo9ZebnEa"
      },
      "source": [
        "Теперь мы можем создать функцию `q_learn`, которая вычисляет градиент `batched_q_learning_loss`, а затем использует оптимизатор Optax для обновления весов сети, а затем, наконец (возможно), обновляет целевые параметры."
      ]
    },
    {
      "cell_type": "code",
      "execution_count": 110,
      "metadata": {
        "id": "6BYoX2W_ZyLr"
      },
      "outputs": [],
      "source": [
        "def q_learn(rng, params, learner_state, memory):\n",
        "  # Compute gradients\n",
        "  grad_loss = jax.grad(batched_q_learning_loss)(params.online, params.target, memory.obs,\n",
        "                                          memory.action, memory.reward,\n",
        "                                          memory.next_obs, memory.done,\n",
        "                                          ) # jax.grad\n",
        "\n",
        "  # Get updates\n",
        "  updates, opt_state = Q_LEARN_OPTIMIZER.update(grad_loss, learner_state.optim_state)\n",
        "\n",
        "  # Apply them\n",
        "  new_weights = optax.apply_updates(params.online, updates)\n",
        "\n",
        "  # Maybe update target network\n",
        "  params = update_target_params(learner_state, new_weights, params.target)\n",
        "\n",
        "  # Increment learner step counter\n",
        "  learner_state = QLearnState(learner_state.count + 1, opt_state)\n",
        "\n",
        "  return params, learner_state"
      ]
    },
    {
      "cell_type": "markdown",
      "metadata": {
        "id": "VpZsKHssZyLq"
      },
      "source": [
        "### Replay Buffer (Буфер воспроизведения)\n",
        "Для Q-обучения нам понадобится память агента, которая хранит целые переходы: `obs`, `action`, `reward`, `next_obs`, `done`. Когда мы извлекаем переходы из памяти, они должны выбираться случайным образом из всех переходов, собранных до сих пор. В RL мы часто называем такой модуль **буфером воспроизведения**.\n",
        "\n",
        "Одним из преимуществ использования такого буфера воспроизведения является то, что опыт можно повторно использовать несколько раз для обучения, в отличие от алгоритма градиента политики REINFORCE, где мы отбрасывали воспоминания после их использования для обучения."
      ]
    },
    {
      "cell_type": "code",
      "execution_count": 111,
      "metadata": {
        "id": "8tv5dUH6ZyLr"
      },
      "outputs": [],
      "source": [
        "class TransitionMemory(object):\n",
        "  \"\"\"A simple Python replay buffer.\"\"\"\n",
        "\n",
        "  def __init__(self, max_size=10_000, batch_size=256):\n",
        "    self.batch_size = batch_size\n",
        "    self.buffer = collections.deque(maxlen=max_size)\n",
        "\n",
        "  def push(self, transition):\n",
        "\n",
        "    # add transition to the replay buffer\n",
        "    self.buffer.append(\n",
        "        (transition.obs, transition.action, transition.reward,\n",
        "          transition.next_obs, transition.done)\n",
        "    )\n",
        "\n",
        "\n",
        "  def is_ready(self):\n",
        "    return self.batch_size <= len(self.buffer)\n",
        "\n",
        "  def sample(self):\n",
        "    # Randomly sample a batch of transitions from the buffer\n",
        "    random_replay_sample = random.sample(self.buffer, self.batch_size)\n",
        "\n",
        "    # Batch the transitions together\n",
        "    obs_batch, action_batch, reward_batch, next_obs_batch, done_batch = zip(*random_replay_sample)\n",
        "\n",
        "    return Transition(\n",
        "        np.stack(obs_batch).astype(\"float32\"),\n",
        "        np.asarray(action_batch).astype(\"int32\"),\n",
        "        np.asarray(reward_batch).astype(\"float32\"),\n",
        "        np.stack(next_obs_batch).astype(\"float32\"),\n",
        "        np.asarray(done_batch).astype(\"float32\")\n",
        "    )\n",
        "\n",
        "# Instantiate the memory\n",
        "Q_LEARNING_MEMORY = TransitionMemory(max_size=50_000, batch_size=256)"
      ]
    },
    {
      "cell_type": "markdown",
      "metadata": {
        "id": "XbHk03VVUHAV"
      },
      "source": [
        "### Случайное исследование\n",
        "У нас почти есть все, что нужно для функционирующего агента Q-обучения. Но одна проблема заключается в том, что если мы всегда выбираем действие с наивысшим значением Q, то политика агента будет полностью [детерминированной](https://www.quora.com/What-is-the-intuitive-difference-between-a-stochastic-model-and-a-deterministic-model). Это означает, что агент всегда будет выбирать одну и ту же стратегию. Это может представлять проблему, поскольку в начале обучения Q-сеть будет очень неточной (т. е. плохой аппроксимацией истинной Q-функции). Таким образом, агент будет последовательно выбирать неоптимальные действия. Более того, агент никогда не отклонится от своей неоптимальной стратегии и никогда не обнаружит новые, потенциально более полезные действия. В результате Q-сеть остается неточной. В идеале агент должен опробовать много разных стратегий, чтобы он мог наблюдать результаты (вознаграждения) своих действий в разных состояниях и таким образом улучшить приближение Q-функции.\n",
        "\n",
        "Один простой способ гарантировать, что агент опробует много разных действий, — позволить ему периодически выбирать некоторые случайные действия вместо жадного (лучшего) действия все время.\n",
        "\n",
        "**Упражнение 14:** Реализуйте функцию, которая, учитывая количество возможных (дискретных) действий, возвращает случайное действие.\n",
        "\n",
        "**Полезные методы:**\n",
        "\n",
        "*  `jax.random.randint` ([docs](https://jax.readthedocs.io/en/latest/_autosummary/jax.random.randint.html))"
      ]
    },
    {
      "cell_type": "code",
      "execution_count": 155,
      "metadata": {
        "id": "uUKkpMLXUtko"
      },
      "outputs": [],
      "source": [
        "def select_random_action(key, num_actions):\n",
        "    '''\n",
        "    Выбирает случайное действие из возможного количества действий.\n",
        "\n",
        "    Args:\n",
        "        key: ключ для генерации случайных чисел (JAX PRNGKey).\n",
        "        num_actions: количество возможных действий.\n",
        "\n",
        "    Returns:\n",
        "        Индекс случайно выбранного действия.\n",
        "    '''\n",
        "    # shape=() — форма, которая обозначает скаляр (одно случайное число, индекс действия).\n",
        "    action = jax.random.randint(key, shape=(), minval=0, maxval=num_actions)\n",
        "\n",
        "    return action"
      ]
    },
    {
      "cell_type": "code",
      "execution_count": 156,
      "metadata": {
        "id": "NO6va6S2Y40E",
        "colab": {
          "base_uri": "https://localhost:8080/"
        },
        "outputId": "990fc7ed-1a3e-4e49-b23b-ea864815ddc9"
      },
      "outputs": [
        {
          "output_type": "stream",
          "name": "stdout",
          "text": [
            "Looks good.\n"
          ]
        }
      ],
      "source": [
        "#@title Проверка упр 14 {display-mode: \"form\"}\n",
        "\n",
        "try:\n",
        "  random_key1 = random_key = jax.random.PRNGKey(6) # random key\n",
        "  random_key2 = random_key = jax.random.PRNGKey(1000) # random key\n",
        "  result1 = select_random_action(random_key1, 2)\n",
        "  result2 = select_random_action(random_key2, 2)\n",
        "\n",
        "  if result1 != 1 or result2 != 0:\n",
        "    print(\"Your implementation looks wrong.\")\n",
        "  else:\n",
        "    print(\"Looks good.\")\n",
        "except:\n",
        "  print(\"Your implementation looks wrong.\")"
      ]
    },
    {
      "cell_type": "markdown",
      "metadata": {
        "id": "8-kKDFT6XU6y"
      },
      "source": [
        "### $\\varepsilon$-greedy action selection (эпсилон жадный выбор действия)\n",
        "В начале обучения, когда точность Q-сети низкая, агенту стоит в основном совершать случайные действия, чтобы он мог узнать, насколько хороши/плохи действия. Однако по мере повышения точности Q-сети агент должен начать совершать меньше случайных действий и вместо этого начать выбирать жадные действия относительно Q-значений. Выбор лучших действий с учетом текущей Q-сети называется **эксплуатацией**. В RL мы часто называем отношение случайных и жадных действий **эпсилоном** $\\varepsilon$. Эпсилон обычно представляет собой десятичное значение в интервале $[0,1]$, где, например, $\\varepsilon=0.4$ означает, что агент выбирает случайное действие в 40% случаев, а жадное действие — в 60% случаев. В RL принято линейно уменьшать значение эпсилон с течением времени, так что агент становится все более жадным по мере повышения точности его Q-сети в процессе обучения.\n",
        "\n",
        "**Упражнение 15:** Реализуйте функцию, которая принимает количество временных шагов в качестве входных данных и возвращает текущее значение эпсилон."
      ]
    },
    {
      "cell_type": "code",
      "execution_count": 157,
      "metadata": {
        "id": "_qejnbCocurG"
      },
      "outputs": [],
      "source": [
        "EPSILON_DECAY_TIMESTEPS = 3000 # decay epsilon over 3000 timesteps\n",
        "EPSILON_MIN = 0.1 # 10% exploration"
      ]
    },
    {
      "cell_type": "code",
      "execution_count": 164,
      "metadata": {
        "id": "5ujSbssCZyLs"
      },
      "outputs": [],
      "source": [
        "def get_epsilon(num_timesteps):\n",
        "  '''\n",
        "  Возвращает значение эпсилона в зависимости от количества временных шагов.\n",
        "\n",
        "  Args:\n",
        "      num_timesteps: количество временных шагов, прошедших с начала обучения.\n",
        "\n",
        "  Returns:\n",
        "      Текущее значение эпсилона.\n",
        "  '''\n",
        "  epsilon = 1.0 - num_timesteps/EPSILON_DECAY_TIMESTEPS\n",
        "\n",
        "  epsilon = jax.lax.select(\n",
        "    epsilon < EPSILON_MIN,\n",
        "    EPSILON_MIN, # if less than min then set to min\n",
        "    epsilon# else don't change epsilon\n",
        "  )\n",
        "\n",
        "  return epsilon"
      ]
    },
    {
      "cell_type": "code",
      "execution_count": 165,
      "metadata": {
        "id": "hvu4zA64aUou",
        "colab": {
          "base_uri": "https://localhost:8080/"
        },
        "outputId": "fb20c9c0-04de-4996-f4c7-9279f7317398"
      },
      "outputs": [
        {
          "output_type": "stream",
          "name": "stdout",
          "text": [
            "Your function looks correct.\n"
          ]
        }
      ],
      "source": [
        "#@title Проверка упр 15 {display-mode: \"form\"}\n",
        "def check_get_epsilon(get_epsilon):\n",
        "  try:\n",
        "    result1 = get_epsilon(10)\n",
        "    result2 = get_epsilon(5_010)\n",
        "\n",
        "    if result1 != 0.99666667 or result2 != 0.1:\n",
        "      print(\"Your function looks wrong.\")\n",
        "    else:\n",
        "      print(\"Your function looks correct.\")\n",
        "  except:\n",
        "    print(\"Your function looks wrong.\")\n",
        "\n",
        "check_get_epsilon(get_epsilon)\n"
      ]
    },
    {
      "cell_type": "markdown",
      "metadata": {
        "id": "t56oo58TVQ_s"
      },
      "source": [
        "**Упражнение 16:** Теперь давайте объединим эти функции для выполнения эпсилон-жадного выбора действия."
      ]
    },
    {
      "cell_type": "code",
      "execution_count": 178,
      "metadata": {
        "id": "NlQx8K4vKUXj"
      },
      "outputs": [],
      "source": [
        "def select_epsilon_greedy_action(key, q_values, num_timesteps):\n",
        "    num_actions = len(q_values) # количество доступных действий\n",
        "\n",
        "    # Получаем текущее значение эпсилона\n",
        "    epsilon = get_epsilon(num_timesteps)\n",
        "\n",
        "    # Генерируем случайное число и проверяем, меньше ли оно эпсилона\n",
        "    should_explore = jax.random.uniform(key, ()) < epsilon\n",
        "\n",
        "    # Если should_explore == True, выбираем случайное действие\n",
        "    # Если should_explore == False, выбираем жадное действие\n",
        "    action = jax.lax.select(\n",
        "        should_explore,\n",
        "        select_random_action(key, num_actions),  # случайное действие\n",
        "        select_greedy_action(q_values) # жадное действие (максимальное значение Q)\n",
        "    )\n",
        "\n",
        "    return action"
      ]
    },
    {
      "cell_type": "code",
      "execution_count": 179,
      "metadata": {
        "id": "mkVU2a5e7P6b",
        "colab": {
          "base_uri": "https://localhost:8080/"
        },
        "outputId": "01f0068c-3ef9-4d83-b2a5-ecd9474cec30"
      },
      "outputs": [
        {
          "output_type": "stream",
          "name": "stdout",
          "text": [
            "Looks correct!\n"
          ]
        }
      ],
      "source": [
        "#@title Проверка упражнения 16 {display-mode: \"form\"}\n",
        "\n",
        "try:\n",
        "  rng = hk.PRNGSequence(jax.random.PRNGKey(42))\n",
        "  dummy_q_values = jnp.array([0,1], jnp.float32)\n",
        "  num_timesteps = 5010 # very greedy\n",
        "  actions1 = []\n",
        "  for i in range(10):\n",
        "      actions1.append(int(select_epsilon_greedy_action(next(rng), dummy_q_values, num_timesteps)))\n",
        "\n",
        "  num_timesteps = 0 # completly random\n",
        "  actions2 = []\n",
        "  for i in range(10):\n",
        "      actions2.append(int(select_epsilon_greedy_action(next(rng), dummy_q_values, num_timesteps)))\n",
        "\n",
        "  if actions1 != [1, 1, 0, 1, 1, 0, 1, 1, 1, 1] or actions2 != [0, 0, 0, 1, 1, 1, 1, 0, 0, 0]:\n",
        "    print(\"Looks like something might be incorrect!\")\n",
        "  else:\n",
        "    print(\"Looks correct!\")\n",
        "except:\n",
        "  print(\"Looks like something might be incorrect!\")"
      ]
    },
    {
      "cell_type": "markdown",
      "metadata": {
        "id": "y5W23MnobN9x"
      },
      "source": [
        "### Действие выбора Q-learning\n",
        "\n",
        "Теперь у нас есть все необходимое для создания функции `q_learning_select_action`. Мы будем использовать `actor_state` для хранения счетчика, который отслеживает текущее количество временных шагов. Мы можем использовать счетчик для уменьшения нашего значения `epsilon`."
      ]
    },
    {
      "cell_type": "code",
      "execution_count": 180,
      "metadata": {
        "id": "81TysLc0RjM6"
      },
      "outputs": [],
      "source": [
        "# Actor state stores the current number of timesteps\n",
        "QActorState = collections.namedtuple(\"ActorState\", [\"count\"])\n",
        "\n",
        "def q_learning_select_action(key, params, actor_state, obs, evaluation=False):\n",
        "    obs = jnp.expand_dims(obs, axis=0) # add dummy batch dim\n",
        "    q_values = Q_NETWORK.apply(params.online, obs)[0] # remove batch dim\n",
        "\n",
        "    action = select_epsilon_greedy_action(key, q_values, actor_state.count)\n",
        "    greedy_action = select_greedy_action(q_values)\n",
        "\n",
        "    action = jax.lax.select(\n",
        "        evaluation,\n",
        "        greedy_action,\n",
        "        action\n",
        "    )\n",
        "\n",
        "    next_actor_state = QActorState(actor_state.count + 1) # increment timestep counter\n",
        "\n",
        "    return action, next_actor_state\n",
        "\n",
        "Q_LEARNING_ACTOR_STATE = QActorState(0) # counter set to zero"
      ]
    },
    {
      "cell_type": "markdown",
      "metadata": {
        "id": "z884-1oNRGEr"
      },
      "source": [
        "### Обучение\n",
        "Теперь мы можем собрать все вместе, используя цикл агент-среда. Но сначала давайте объединим функцию выбора действия и функцию обучения для дополнительной скорости."
      ]
    },
    {
      "cell_type": "code",
      "execution_count": 182,
      "metadata": {
        "id": "xbdHDbd1RjM8",
        "colab": {
          "base_uri": "https://localhost:8080/",
          "height": 680
        },
        "outputId": "28526030-d9bd-4144-cfa6-ee73fecbd953"
      },
      "outputs": [
        {
          "output_type": "stream",
          "name": "stdout",
          "text": [
            "Starting training. This may take up to 8 minutes to complete.\n",
            "Episode: 0\tEpisode Return: 19.0\tAverage Episode Return: 19.0\tEvaluator Episode Return: 9.5\n",
            "Episode: 100\tEpisode Return: 11.0\tAverage Episode Return: 14.85\tEvaluator Episode Return: 9.625\n",
            "Episode: 200\tEpisode Return: 25.0\tAverage Episode Return: 17.75\tEvaluator Episode Return: 37.25\n",
            "Episode: 300\tEpisode Return: 14.0\tAverage Episode Return: 18.85\tEvaluator Episode Return: 11.75\n",
            "Episode: 400\tEpisode Return: 11.0\tAverage Episode Return: 9.8\tEvaluator Episode Return: 10.0\n",
            "Episode: 500\tEpisode Return: 57.0\tAverage Episode Return: 40.85\tEvaluator Episode Return: 54.25\n",
            "Episode: 600\tEpisode Return: 64.0\tAverage Episode Return: 116.65\tEvaluator Episode Return: 76.5\n",
            "Episode: 700\tEpisode Return: 200.0\tAverage Episode Return: 200.0\tEvaluator Episode Return: 200.0\n",
            "Episode: 800\tEpisode Return: 200.0\tAverage Episode Return: 200.0\tEvaluator Episode Return: 200.0\n",
            "Episode: 900\tEpisode Return: 200.0\tAverage Episode Return: 200.0\tEvaluator Episode Return: 200.0\n",
            "Episode: 1000\tEpisode Return: 200.0\tAverage Episode Return: 200.0\tEvaluator Episode Return: 200.0\n"
          ]
        },
        {
          "output_type": "display_data",
          "data": {
            "text/plain": [
              "<Figure size 640x480 with 1 Axes>"
            ],
            "image/png": "[encoded data removed]"
          },
          "metadata": {}
        }
      ],
      "source": [
        "# Jit functions\n",
        "q_learning_select_action_jit = jax.jit(q_learning_select_action)\n",
        "q_learn_jit = jax.jit(q_learn)\n",
        "\n",
        "# Run environment loop\n",
        "print(\"Starting training. This may take up to 8 minutes to complete.\")\n",
        "episode_returns, evaluator_returns = run_training_loop(\n",
        "                                        env_name,\n",
        "                                        Q_LEARNING_PARAMS,\n",
        "                                        q_learning_select_action_jit,\n",
        "                                        Q_LEARNING_ACTOR_STATE,\n",
        "                                        q_learn_jit,\n",
        "                                        Q_LEARNING_LEARN_STATE,\n",
        "                                        Q_LEARNING_MEMORY,\n",
        "                                        num_episodes=1001,\n",
        "                                        train_every_timestep=True, # do learning after every timestep\n",
        "                                        video_subdir=\"q_learning\"\n",
        "                                    )\n",
        "\n",
        "plt.plot(episode_returns)\n",
        "plt.xlabel(\"Episodes\")\n",
        "plt.ylabel(\"Episode Return\")\n",
        "plt.title(\"Deep Q-Learning\")\n",
        "plt.show()"
      ]
    },
    {
      "cell_type": "markdown",
      "metadata": {
        "id": "2k0-41wbpFDE"
      },
      "source": [
        "На этом этапе, как мы надеемся, приближенная Q-функция сошлась к приемлемой политике балансировки шеста в задаче CartPole."
      ]
    },
    {
      "cell_type": "code",
      "execution_count": 183,
      "metadata": {
        "id": "t4v0ZbB4FQUs",
        "colab": {
          "base_uri": "https://localhost:8080/",
          "height": 288
        },
        "outputId": "690fe995-11ee-49e1-83e7-0a191acce6ee"
      },
      "outputs": [
        {
          "output_type": "execute_result",
          "data": {
            "text/plain": [
              "<IPython.core.display.HTML object>"
            ],
            "text/html": [
              "\n",
              "<video width=400 controls>\n",
              "      <source src=\"data:video/mp4;base64,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\" type=\"video/mp4\">\n",
              "</video>\n"
            ]
          },
          "metadata": {},
          "execution_count": 183
        }
      ],
      "source": [
        "#@title Визуализация политики\n",
        "#@markdown Выберите номер эпизода, кратный 100 и меньший или равный 1000, и **запустите эту ячейку**.\n",
        "episode_number = 1000 #@param {type:\"number\"}\n",
        "\n",
        "assert (episode_number % 100) == 0, \"Episode number must be a multiple of 100 since we only record every 100th episode.\"\n",
        "assert episode_number < 1001, \"Episode number must be less than or equal to 1000\"\n",
        "\n",
        "\n",
        "eval_episode_number = int(episode_number / 100 * 8)\n",
        "video_path = f\"./video/q_learning/eval/rl-video-episode-{eval_episode_number}.mp4\"\n",
        "\n",
        "mp4 = open(video_path,'rb').read()\n",
        "data_url = \"data:video/mp4;base64,\" + b64encode(mp4).decode()\n",
        "HTML(\"\"\"\n",
        "<video width=400 controls>\n",
        "      <source src=\"%s\" type=\"video/mp4\">\n",
        "</video>\n",
        "\"\"\" % data_url)"
      ]
    },
    {
      "cell_type": "markdown",
      "metadata": {
        "id": "fV3YG7QOZD-B"
      },
      "source": [
        "Кроме того, существует множество алгоритмов RL, которые вносят существенные улучшения в REINFORCE и Deep Q-Learning. См. эти ресурсы:\n",
        "* [REINFORCE с базовым уровнем](https://spinningup.openai.com/en/latest/spinningup/rl_intro3.html#baselines-in-policy-gradients)\n",
        "* [Double Deep Q-Network](https://arxiv.org/pdf/1509.06461.pdf)\n",
        "* [Proximal Policy Optimisation (PPO)](https://arxiv.org/pdf/1707.06347.pdf)\n",
        "\n",
        "Если вы ищете более углубленный онлайн-курс по RL, вы можете ознакомиться с этими курсами:\n",
        "* [Reinforcement Learning Foundations on LinkedIn Learning](https://www.linkedin.com/learning/reinforcement-learning-foundations) (создано одним из наших собственных преподавателей, Хаулатом Абдулхакимом)\n",
        "* [Введение в Reinforcement Learning on FreeCodeCamp](https://www.freecodecamp.org/news/an-introduction-to-reinforcement-learning-4339519de419/)\n",
        "* [Специализация обучения с подкреплением на Coursera](https://www.coursera.org/specializations/reinforcement-learning)\n",
        "\n",
        "Наконец, самый влиятельный учебник по обучению с подкреплением доступен бесплатно онлайн:\n",
        "* [Обучение с подкреплением: введение](http://incompleteideas.net/book/the-book-2nd.html) Ричарда С. Саттона и Эндрю Г. Барто\n",
        "\n",
        "\n",
        "**Ссылки:**\n",
        "\n",
        "* [OpenAI Spinning Up](https://spinningup.openai.com/en/latest/)\n",
        "* [Deep Q-Network]()"
      ]
    },
    {
      "cell_type": "code",
      "source": [],
      "metadata": {
        "id": "6V47Vd_i3qk7"
      },
      "execution_count": null,
      "outputs": []
    }
  ],
  "metadata": {
    "colab": {
      "provenance": [],
      "gpuType": "T4"
    },
    "kernelspec": {
      "display_name": "Python 3",
      "name": "python3"
    },
    "language_info": {
      "codemirror_mode": {
        "name": "ipython",
        "version": 3
      },
      "file_extension": ".py",
      "mimetype": "text/x-python",
      "name": "python",
      "nbconvert_exporter": "python",
      "pygments_lexer": "ipython3",
      "version": "3.8.13"
    },
    "vscode": {
      "interpreter": {
        "hash": "0f35138c66f99be0fd7a1210bb4aa94a6fbaa5f29d51ad43aec0e0ea0ff050f0"
      }
    }
  },
  "nbformat": 4,
  "nbformat_minor": 0
}